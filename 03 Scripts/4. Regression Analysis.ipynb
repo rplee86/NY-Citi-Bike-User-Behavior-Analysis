{
 "cells": [
  {
   "cell_type": "markdown",
   "id": "7393e89a",
   "metadata": {},
   "source": [
    "# [NY Citi Bike](https://citibikenyc.com/) Data Analysis: Regression Analysis\n",
    "Script by Ryan Lee"
   ]
  },
  {
   "cell_type": "markdown",
   "id": "4df7f718",
   "metadata": {},
   "source": [
    "## Table of Contents\n",
    "\n",
    "### 1. [Import libraries](#Import_libraries)\n",
    "\n",
    "### 2. [Import data](#Import_data)\n",
    "\n",
    "### 3. [Data wrangling](#Data_wrangling)\n",
    "\n",
    "### 4. [Data cleaning](#Data_cleaning)\n",
    "\n",
    "- [Extreme values check](#extreme)\n",
    "\n",
    "### 5. [Exploring relationships between variables](#Exploring_relationships)\n",
    "\n",
    "### 6. [Regression analysis](#Regression_analysis)\n",
    "\n",
    "- [On age and trip duration](#age_trip)\n",
    "- [On start hour and trip duration](#start_trip)\n",
    "\n",
    "### 7. [Regression analysis without outliers](#Regression_analysis_no_outliers)\n",
    "\n",
    "- [On age and trip duration](#age_trip_no_outliers)\n",
    "- [On start hour and trip duration](#start_trip_no_outliers)"
   ]
  },
  {
   "cell_type": "markdown",
   "id": "924843e8",
   "metadata": {},
   "source": [
    "<a id='Import_libraries'></a>\n",
    "# 1. Import libraries"
   ]
  },
  {
   "cell_type": "code",
   "execution_count": 1,
   "id": "88fe41fb",
   "metadata": {},
   "outputs": [],
   "source": [
    "# Import necessary libraries\n",
    "\n",
    "import pandas as pd\n",
    "import numpy as np\n",
    "import seaborn as sns\n",
    "import matplotlib\n",
    "import matplotlib.pyplot as plt\n",
    "import os\n",
    "import sklearn\n",
    "from sklearn.model_selection import train_test_split \n",
    "from sklearn.linear_model import LinearRegression\n",
    "from sklearn.metrics import mean_squared_error, r2_score"
   ]
  },
  {
   "cell_type": "code",
   "execution_count": 2,
   "id": "26c68857",
   "metadata": {},
   "outputs": [],
   "source": [
    "# This command prompts matplotlib visuals to appear in the notebook without the need to \"call\" them specifically.\n",
    "\n",
    "%matplotlib inline"
   ]
  },
  {
   "cell_type": "markdown",
   "id": "bc251354",
   "metadata": {},
   "source": [
    "<a id='Import_data'></a>\n",
    "# 2. Import data"
   ]
  },
  {
   "cell_type": "code",
   "execution_count": 3,
   "id": "53f4b591",
   "metadata": {},
   "outputs": [],
   "source": [
    "# Create a string of the path for the main project folder\n",
    "\n",
    "path = r'C:\\Users\\Ryan\\Documents\\08-31-2023 Citi Bike Analysis'"
   ]
  },
  {
   "cell_type": "code",
   "execution_count": 4,
   "id": "2a076829",
   "metadata": {},
   "outputs": [],
   "source": [
    "# Import the “201903-citibike-tripdata-cleaned.pkl” data set using the os library\n",
    "\n",
    "df_citibike = pd.read_pickle(os.path.join(path, '02 Data','Prepared Data', '201903-citibike-tripdata-cleaned.pkl'))"
   ]
  },
  {
   "cell_type": "code",
   "execution_count": 5,
   "id": "35ba7aaf",
   "metadata": {},
   "outputs": [
    {
     "data": {
      "text/html": [
       "<div>\n",
       "<style scoped>\n",
       "    .dataframe tbody tr th:only-of-type {\n",
       "        vertical-align: middle;\n",
       "    }\n",
       "\n",
       "    .dataframe tbody tr th {\n",
       "        vertical-align: top;\n",
       "    }\n",
       "\n",
       "    .dataframe thead th {\n",
       "        text-align: right;\n",
       "    }\n",
       "</style>\n",
       "<table border=\"1\" class=\"dataframe\">\n",
       "  <thead>\n",
       "    <tr style=\"text-align: right;\">\n",
       "      <th></th>\n",
       "      <th>user_type</th>\n",
       "      <th>gender</th>\n",
       "      <th>age</th>\n",
       "      <th>age_group</th>\n",
       "      <th>trip_duration</th>\n",
       "      <th>start_day_name</th>\n",
       "      <th>start_day</th>\n",
       "      <th>start_hour</th>\n",
       "      <th>start_station</th>\n",
       "      <th>start_latitude</th>\n",
       "      <th>start_longitude</th>\n",
       "      <th>end_station</th>\n",
       "      <th>end_latitude</th>\n",
       "      <th>end_longitude</th>\n",
       "      <th>borough</th>\n",
       "    </tr>\n",
       "  </thead>\n",
       "  <tbody>\n",
       "    <tr>\n",
       "      <th>0</th>\n",
       "      <td>Subscriber</td>\n",
       "      <td>Male</td>\n",
       "      <td>30</td>\n",
       "      <td>26-35</td>\n",
       "      <td>24.379999</td>\n",
       "      <td>Friday</td>\n",
       "      <td>1</td>\n",
       "      <td>0</td>\n",
       "      <td>Fulton St &amp; Broadway</td>\n",
       "      <td>40.711067</td>\n",
       "      <td>-74.009445</td>\n",
       "      <td>Greenwich St &amp; W Houston St</td>\n",
       "      <td>40.728848</td>\n",
       "      <td>-74.008591</td>\n",
       "      <td>Manhattan</td>\n",
       "    </tr>\n",
       "    <tr>\n",
       "      <th>1</th>\n",
       "      <td>Subscriber</td>\n",
       "      <td>Male</td>\n",
       "      <td>39</td>\n",
       "      <td>36-45</td>\n",
       "      <td>4.750000</td>\n",
       "      <td>Friday</td>\n",
       "      <td>1</td>\n",
       "      <td>0</td>\n",
       "      <td>E 4 St &amp; 2 Ave</td>\n",
       "      <td>40.726280</td>\n",
       "      <td>-73.989777</td>\n",
       "      <td>E 2 St &amp; Avenue C</td>\n",
       "      <td>40.720875</td>\n",
       "      <td>-73.980858</td>\n",
       "      <td>Manhattan</td>\n",
       "    </tr>\n",
       "    <tr>\n",
       "      <th>2</th>\n",
       "      <td>Subscriber</td>\n",
       "      <td>Male</td>\n",
       "      <td>32</td>\n",
       "      <td>26-35</td>\n",
       "      <td>11.430000</td>\n",
       "      <td>Friday</td>\n",
       "      <td>1</td>\n",
       "      <td>0</td>\n",
       "      <td>E 33 St &amp; 5 Ave</td>\n",
       "      <td>40.747658</td>\n",
       "      <td>-73.984909</td>\n",
       "      <td>6 Ave &amp; Spring St</td>\n",
       "      <td>40.725254</td>\n",
       "      <td>-74.004120</td>\n",
       "      <td>Manhattan</td>\n",
       "    </tr>\n",
       "    <tr>\n",
       "      <th>3</th>\n",
       "      <td>Subscriber</td>\n",
       "      <td>Female</td>\n",
       "      <td>32</td>\n",
       "      <td>26-35</td>\n",
       "      <td>7.370000</td>\n",
       "      <td>Friday</td>\n",
       "      <td>1</td>\n",
       "      <td>0</td>\n",
       "      <td>6 Ave &amp; Spring St</td>\n",
       "      <td>40.725254</td>\n",
       "      <td>-74.004120</td>\n",
       "      <td>Bayard St &amp; Baxter St</td>\n",
       "      <td>40.716022</td>\n",
       "      <td>-73.999741</td>\n",
       "      <td>Manhattan</td>\n",
       "    </tr>\n",
       "    <tr>\n",
       "      <th>4</th>\n",
       "      <td>Subscriber</td>\n",
       "      <td>Male</td>\n",
       "      <td>28</td>\n",
       "      <td>26-35</td>\n",
       "      <td>48.549999</td>\n",
       "      <td>Friday</td>\n",
       "      <td>1</td>\n",
       "      <td>0</td>\n",
       "      <td>W 31 St &amp; 7 Ave</td>\n",
       "      <td>40.749157</td>\n",
       "      <td>-73.991600</td>\n",
       "      <td>W 16 St &amp; The High Line</td>\n",
       "      <td>40.743351</td>\n",
       "      <td>-74.006821</td>\n",
       "      <td>Manhattan</td>\n",
       "    </tr>\n",
       "  </tbody>\n",
       "</table>\n",
       "</div>"
      ],
      "text/plain": [
       "    user_type  gender  age age_group  trip_duration start_day_name  start_day  \\\n",
       "0  Subscriber    Male   30     26-35      24.379999         Friday          1   \n",
       "1  Subscriber    Male   39     36-45       4.750000         Friday          1   \n",
       "2  Subscriber    Male   32     26-35      11.430000         Friday          1   \n",
       "3  Subscriber  Female   32     26-35       7.370000         Friday          1   \n",
       "4  Subscriber    Male   28     26-35      48.549999         Friday          1   \n",
       "\n",
       "   start_hour         start_station  start_latitude  start_longitude  \\\n",
       "0           0  Fulton St & Broadway       40.711067       -74.009445   \n",
       "1           0        E 4 St & 2 Ave       40.726280       -73.989777   \n",
       "2           0       E 33 St & 5 Ave       40.747658       -73.984909   \n",
       "3           0     6 Ave & Spring St       40.725254       -74.004120   \n",
       "4           0       W 31 St & 7 Ave       40.749157       -73.991600   \n",
       "\n",
       "                   end_station  end_latitude  end_longitude    borough  \n",
       "0  Greenwich St & W Houston St     40.728848     -74.008591  Manhattan  \n",
       "1            E 2 St & Avenue C     40.720875     -73.980858  Manhattan  \n",
       "2            6 Ave & Spring St     40.725254     -74.004120  Manhattan  \n",
       "3        Bayard St & Baxter St     40.716022     -73.999741  Manhattan  \n",
       "4      W 16 St & The High Line     40.743351     -74.006821  Manhattan  "
      ]
     },
     "execution_count": 5,
     "metadata": {},
     "output_type": "execute_result"
    }
   ],
   "source": [
    "# Check the output\n",
    "\n",
    "df_citibike.head()"
   ]
  },
  {
   "cell_type": "code",
   "execution_count": 6,
   "id": "6ef77450",
   "metadata": {},
   "outputs": [
    {
     "data": {
      "text/plain": [
       "(1255492, 15)"
      ]
     },
     "execution_count": 6,
     "metadata": {},
     "output_type": "execute_result"
    }
   ],
   "source": [
    "# Check the dimensions\n",
    "\n",
    "df_citibike.shape"
   ]
  },
  {
   "cell_type": "markdown",
   "id": "ea62eb75",
   "metadata": {},
   "source": [
    "<a id='Data_wrangling'></a>\n",
    "# 3. Data wrangling"
   ]
  },
  {
   "cell_type": "code",
   "execution_count": 7,
   "id": "01e6e250",
   "metadata": {},
   "outputs": [],
   "source": [
    "# Create a subset\n",
    "\n",
    "df = df_citibike[['age', 'trip_duration', 'start_hour']]"
   ]
  },
  {
   "cell_type": "code",
   "execution_count": 8,
   "id": "376a43a5",
   "metadata": {},
   "outputs": [
    {
     "data": {
      "text/html": [
       "<div>\n",
       "<style scoped>\n",
       "    .dataframe tbody tr th:only-of-type {\n",
       "        vertical-align: middle;\n",
       "    }\n",
       "\n",
       "    .dataframe tbody tr th {\n",
       "        vertical-align: top;\n",
       "    }\n",
       "\n",
       "    .dataframe thead th {\n",
       "        text-align: right;\n",
       "    }\n",
       "</style>\n",
       "<table border=\"1\" class=\"dataframe\">\n",
       "  <thead>\n",
       "    <tr style=\"text-align: right;\">\n",
       "      <th></th>\n",
       "      <th>age</th>\n",
       "      <th>trip_duration</th>\n",
       "      <th>start_hour</th>\n",
       "    </tr>\n",
       "  </thead>\n",
       "  <tbody>\n",
       "    <tr>\n",
       "      <th>0</th>\n",
       "      <td>30</td>\n",
       "      <td>24.379999</td>\n",
       "      <td>0</td>\n",
       "    </tr>\n",
       "    <tr>\n",
       "      <th>1</th>\n",
       "      <td>39</td>\n",
       "      <td>4.750000</td>\n",
       "      <td>0</td>\n",
       "    </tr>\n",
       "    <tr>\n",
       "      <th>2</th>\n",
       "      <td>32</td>\n",
       "      <td>11.430000</td>\n",
       "      <td>0</td>\n",
       "    </tr>\n",
       "    <tr>\n",
       "      <th>3</th>\n",
       "      <td>32</td>\n",
       "      <td>7.370000</td>\n",
       "      <td>0</td>\n",
       "    </tr>\n",
       "    <tr>\n",
       "      <th>4</th>\n",
       "      <td>28</td>\n",
       "      <td>48.549999</td>\n",
       "      <td>0</td>\n",
       "    </tr>\n",
       "  </tbody>\n",
       "</table>\n",
       "</div>"
      ],
      "text/plain": [
       "   age  trip_duration  start_hour\n",
       "0   30      24.379999           0\n",
       "1   39       4.750000           0\n",
       "2   32      11.430000           0\n",
       "3   32       7.370000           0\n",
       "4   28      48.549999           0"
      ]
     },
     "execution_count": 8,
     "metadata": {},
     "output_type": "execute_result"
    }
   ],
   "source": [
    "# Check the output\n",
    "\n",
    "df.head()"
   ]
  },
  {
   "cell_type": "code",
   "execution_count": 9,
   "id": "7835fd8d",
   "metadata": {},
   "outputs": [
    {
     "data": {
      "text/plain": [
       "(1255492, 3)"
      ]
     },
     "execution_count": 9,
     "metadata": {},
     "output_type": "execute_result"
    }
   ],
   "source": [
    "# Check the dimensions\n",
    "\n",
    "df.shape"
   ]
  },
  {
   "cell_type": "markdown",
   "id": "86785090",
   "metadata": {},
   "source": [
    "<a id='Data_cleaning'></a>\n",
    "# 4. Data cleaning"
   ]
  },
  {
   "cell_type": "markdown",
   "id": "8542669b",
   "metadata": {},
   "source": [
    "<a id='extreme'></a>\n",
    "## Extreme values check"
   ]
  },
  {
   "cell_type": "code",
   "execution_count": 10,
   "id": "72558a33",
   "metadata": {},
   "outputs": [
    {
     "data": {
      "text/plain": [
       "<Axes: xlabel='trip_duration', ylabel='Count'>"
      ]
     },
     "execution_count": 10,
     "metadata": {},
     "output_type": "execute_result"
    },
    {
     "data": {
      "image/png": "[encoded data removed]",
      "text/plain": [
       "<Figure size 640x480 with 1 Axes>"
      ]
     },
     "metadata": {},
     "output_type": "display_data"
    }
   ],
   "source": [
    "# Show extreme values for 'trip_duration'\n",
    "\n",
    "sns.histplot(df['trip_duration'], bins=20, kde = True)"
   ]
  },
  {
   "cell_type": "code",
   "execution_count": 11,
   "id": "89798770",
   "metadata": {},
   "outputs": [
    {
     "data": {
      "text/plain": [
       "count    1.255492e+06\n",
       "mean     1.359681e+01\n",
       "std      1.249650e+02\n",
       "min      1.020000e+00\n",
       "25%      5.250000e+00\n",
       "50%      8.730000e+00\n",
       "75%      1.503000e+01\n",
       "max      4.949635e+04\n",
       "Name: trip_duration, dtype: float64"
      ]
     },
     "execution_count": 11,
     "metadata": {},
     "output_type": "execute_result"
    }
   ],
   "source": [
    "# Check trip duration statistics\n",
    "\n",
    "df['trip_duration'].describe()"
   ]
  },
  {
   "cell_type": "code",
   "execution_count": 12,
   "id": "932618d2",
   "metadata": {},
   "outputs": [
    {
     "data": {
      "text/plain": [
       "29.699999999999996"
      ]
     },
     "execution_count": 12,
     "metadata": {},
     "output_type": "execute_result"
    }
   ],
   "source": [
    "# Obtain upper outlier bound\n",
    "\n",
    "15.03 + 1.5*(15.03-5.25)"
   ]
  },
  {
   "cell_type": "code",
   "execution_count": 13,
   "id": "1c136fcc",
   "metadata": {},
   "outputs": [
    {
     "data": {
      "text/plain": [
       "(77561, 3)"
      ]
     },
     "execution_count": 13,
     "metadata": {},
     "output_type": "execute_result"
    }
   ],
   "source": [
    "# Check how many values are above 29.7\n",
    "\n",
    "df.loc[df['trip_duration'] > 29.7].shape"
   ]
  },
  {
   "cell_type": "code",
   "execution_count": 14,
   "id": "ea1bf3c8",
   "metadata": {},
   "outputs": [
    {
     "data": {
      "text/plain": [
       "0.061777374925527206"
      ]
     },
     "execution_count": 14,
     "metadata": {},
     "output_type": "execute_result"
    }
   ],
   "source": [
    "# Check how much data would be removed if trip duration values > 29.7 were removed\n",
    "\n",
    "77561/1255492"
   ]
  },
  {
   "cell_type": "markdown",
   "id": "902924e9",
   "metadata": {},
   "source": [
    "There are a lot of extreme values for trip duration. Removing them would result in removing more than 5% of the data. Therefore, I will keep the extreme values in the data."
   ]
  },
  {
   "cell_type": "markdown",
   "id": "c1f12c9e",
   "metadata": {},
   "source": [
    "<a id='Exploring_relationships'></a>\n",
    "# 5. Exploring relationships between variables"
   ]
  },
  {
   "cell_type": "code",
   "execution_count": 15,
   "id": "f8ac634f",
   "metadata": {},
   "outputs": [
    {
     "data": {
      "image/png": "[encoded data removed]",
      "text/plain": [
       "<Figure size 640x480 with 1 Axes>"
      ]
     },
     "metadata": {},
     "output_type": "display_data"
    }
   ],
   "source": [
    "# Explore relationships between age and trip duration\n",
    "\n",
    "df.plot(x='age', y='trip_duration', style='o') \n",
    "plt.title('Age vs Trip Duration')  \n",
    "plt.xlabel('Age')  \n",
    "plt.ylabel('Trip Duration')  \n",
    "plt.legend().remove()\n",
    "plt.show()"
   ]
  },
  {
   "cell_type": "markdown",
   "id": "970f33a0",
   "metadata": {},
   "source": [
    "**Hypothesis:** The older you are, the shorter the trip duration."
   ]
  },
  {
   "cell_type": "code",
   "execution_count": 16,
   "id": "e8d7cb8a",
   "metadata": {},
   "outputs": [
    {
     "data": {
      "image/png": "[encoded data removed]",
      "text/plain": [
       "<Figure size 640x480 with 1 Axes>"
      ]
     },
     "metadata": {},
     "output_type": "display_data"
    }
   ],
   "source": [
    "# Explore relationship between start hour and age\n",
    "\n",
    "df.plot(x='start_hour', y='age', style='o') \n",
    "plt.title('Start Hour vs Age')  \n",
    "plt.xlabel('Start Hour')\n",
    "plt.ylabel('Age')    \n",
    "plt.legend().remove()\n",
    "plt.show()"
   ]
  },
  {
   "cell_type": "markdown",
   "id": "f023f04f",
   "metadata": {},
   "source": [
    "**There does not appear to be a relationship between start hour and age. No hypothesis can be formed.**"
   ]
  },
  {
   "cell_type": "code",
   "execution_count": 17,
   "id": "11ab067b",
   "metadata": {},
   "outputs": [
    {
     "data": {
      "image/png": "[encoded data removed]",
      "text/plain": [
       "<Figure size 640x480 with 1 Axes>"
      ]
     },
     "metadata": {},
     "output_type": "display_data"
    }
   ],
   "source": [
    "# Explore relationship between start hour and trip duration\n",
    "\n",
    "df.plot(x='start_hour', y='trip_duration', style='o') \n",
    "plt.title('Start Hour vs Trip Duration')  \n",
    "plt.xlabel('Start Hour')  \n",
    "plt.ylabel('Trip Duration')  \n",
    "plt.legend().remove()\n",
    "plt.show()"
   ]
  },
  {
   "cell_type": "markdown",
   "id": "e16293d1",
   "metadata": {},
   "source": [
    "**Hypothesis:** The later the start hour, the longer the trip duration."
   ]
  },
  {
   "cell_type": "markdown",
   "id": "7297d158",
   "metadata": {},
   "source": [
    "<a id='Regression_analysis'></a>\n",
    "# 6. Regression analysis"
   ]
  },
  {
   "cell_type": "markdown",
   "id": "c7f3859a",
   "metadata": {},
   "source": [
    "<a id='age_trip'></a>\n",
    "## Regression analysis on age and trip duration"
   ]
  },
  {
   "cell_type": "code",
   "execution_count": 18,
   "id": "46f29163",
   "metadata": {},
   "outputs": [],
   "source": [
    "# Reshape the variables into NumPy arrays and put them into separate objects\n",
    "\n",
    "X = df['age'].values.reshape(-1,1)\n",
    "y = df['trip_duration'].values.reshape(-1,1)"
   ]
  },
  {
   "cell_type": "code",
   "execution_count": 19,
   "id": "1b3d2c63",
   "metadata": {},
   "outputs": [],
   "source": [
    "# Split data into a training set and a test set\n",
    "\n",
    "X_train, X_test, y_train, y_test = train_test_split(X, y, test_size=0.3, random_state=0)"
   ]
  },
  {
   "cell_type": "code",
   "execution_count": 20,
   "id": "11de9591",
   "metadata": {},
   "outputs": [],
   "source": [
    "# Create a regression object\n",
    "\n",
    "regression = LinearRegression()"
   ]
  },
  {
   "cell_type": "code",
   "execution_count": 21,
   "id": "7030e257",
   "metadata": {},
   "outputs": [
    {
     "data": {
      "text/html": [
       "<style>#sk-container-id-1 {color: black;}#sk-container-id-1 pre{padding: 0;}#sk-container-id-1 div.sk-toggleable {background-color: white;}#sk-container-id-1 label.sk-toggleable__label {cursor: pointer;display: block;width: 100%;margin-bottom: 0;padding: 0.3em;box-sizing: border-box;text-align: center;}#sk-container-id-1 label.sk-toggleable__label-arrow:before {content: \"▸\";float: left;margin-right: 0.25em;color: #696969;}#sk-container-id-1 label.sk-toggleable__label-arrow:hover:before {color: black;}#sk-container-id-1 div.sk-estimator:hover label.sk-toggleable__label-arrow:before {color: black;}#sk-container-id-1 div.sk-toggleable__content {max-height: 0;max-width: 0;overflow: hidden;text-align: left;background-color: #f0f8ff;}#sk-container-id-1 div.sk-toggleable__content pre {margin: 0.2em;color: black;border-radius: 0.25em;background-color: #f0f8ff;}#sk-container-id-1 input.sk-toggleable__control:checked~div.sk-toggleable__content {max-height: 200px;max-width: 100%;overflow: auto;}#sk-container-id-1 input.sk-toggleable__control:checked~label.sk-toggleable__label-arrow:before {content: \"▾\";}#sk-container-id-1 div.sk-estimator input.sk-toggleable__control:checked~label.sk-toggleable__label {background-color: #d4ebff;}#sk-container-id-1 div.sk-label input.sk-toggleable__control:checked~label.sk-toggleable__label {background-color: #d4ebff;}#sk-container-id-1 input.sk-hidden--visually {border: 0;clip: rect(1px 1px 1px 1px);clip: rect(1px, 1px, 1px, 1px);height: 1px;margin: -1px;overflow: hidden;padding: 0;position: absolute;width: 1px;}#sk-container-id-1 div.sk-estimator {font-family: monospace;background-color: #f0f8ff;border: 1px dotted black;border-radius: 0.25em;box-sizing: border-box;margin-bottom: 0.5em;}#sk-container-id-1 div.sk-estimator:hover {background-color: #d4ebff;}#sk-container-id-1 div.sk-parallel-item::after {content: \"\";width: 100%;border-bottom: 1px solid gray;flex-grow: 1;}#sk-container-id-1 div.sk-label:hover label.sk-toggleable__label {background-color: #d4ebff;}#sk-container-id-1 div.sk-serial::before {content: \"\";position: absolute;border-left: 1px solid gray;box-sizing: border-box;top: 0;bottom: 0;left: 50%;z-index: 0;}#sk-container-id-1 div.sk-serial {display: flex;flex-direction: column;align-items: center;background-color: white;padding-right: 0.2em;padding-left: 0.2em;position: relative;}#sk-container-id-1 div.sk-item {position: relative;z-index: 1;}#sk-container-id-1 div.sk-parallel {display: flex;align-items: stretch;justify-content: center;background-color: white;position: relative;}#sk-container-id-1 div.sk-item::before, #sk-container-id-1 div.sk-parallel-item::before {content: \"\";position: absolute;border-left: 1px solid gray;box-sizing: border-box;top: 0;bottom: 0;left: 50%;z-index: -1;}#sk-container-id-1 div.sk-parallel-item {display: flex;flex-direction: column;z-index: 1;position: relative;background-color: white;}#sk-container-id-1 div.sk-parallel-item:first-child::after {align-self: flex-end;width: 50%;}#sk-container-id-1 div.sk-parallel-item:last-child::after {align-self: flex-start;width: 50%;}#sk-container-id-1 div.sk-parallel-item:only-child::after {width: 0;}#sk-container-id-1 div.sk-dashed-wrapped {border: 1px dashed gray;margin: 0 0.4em 0.5em 0.4em;box-sizing: border-box;padding-bottom: 0.4em;background-color: white;}#sk-container-id-1 div.sk-label label {font-family: monospace;font-weight: bold;display: inline-block;line-height: 1.2em;}#sk-container-id-1 div.sk-label-container {text-align: center;}#sk-container-id-1 div.sk-container {/* jupyter's `normalize.less` sets `[hidden] { display: none; }` but bootstrap.min.css set `[hidden] { display: none !important; }` so we also need the `!important` here to be able to override the default hidden behavior on the sphinx rendered scikit-learn.org. See: https://github.com/scikit-learn/scikit-learn/issues/21755 */display: inline-block !important;position: relative;}#sk-container-id-1 div.sk-text-repr-fallback {display: none;}</style><div id=\"sk-container-id-1\" class=\"sk-top-container\"><div class=\"sk-text-repr-fallback\"><pre>LinearRegression()</pre><b>In a Jupyter environment, please rerun this cell to show the HTML representation or trust the notebook. <br />On GitHub, the HTML representation is unable to render, please try loading this page with nbviewer.org.</b></div><div class=\"sk-container\" hidden><div class=\"sk-item\"><div class=\"sk-estimator sk-toggleable\"><input class=\"sk-toggleable__control sk-hidden--visually\" id=\"sk-estimator-id-1\" type=\"checkbox\" checked><label for=\"sk-estimator-id-1\" class=\"sk-toggleable__label sk-toggleable__label-arrow\">LinearRegression</label><div class=\"sk-toggleable__content\"><pre>LinearRegression()</pre></div></div></div></div></div>"
      ],
      "text/plain": [
       "LinearRegression()"
      ]
     },
     "execution_count": 21,
     "metadata": {},
     "output_type": "execute_result"
    }
   ],
   "source": [
    "# Fit the regression object onto the training set\n",
    "\n",
    "regression.fit(X_train, y_train)"
   ]
  },
  {
   "cell_type": "code",
   "execution_count": 22,
   "id": "f8dff58c",
   "metadata": {},
   "outputs": [],
   "source": [
    "# Predict the values of y using X\n",
    "\n",
    "y_predicted = regression.predict(X_test)"
   ]
  },
  {
   "cell_type": "code",
   "execution_count": 23,
   "id": "7e6c0036",
   "metadata": {},
   "outputs": [
    {
     "data": {
      "image/png": "[encoded data removed]",
      "text/plain": [
       "<Figure size 640x480 with 1 Axes>"
      ]
     },
     "metadata": {},
     "output_type": "display_data"
    }
   ],
   "source": [
    "# Create a plot that shows the regression line from the model on the test set.\n",
    "\n",
    "plt.scatter(X_test, y_test, color='gray', s = 15)\n",
    "plt.plot(X_test, y_predicted, color='red', linewidth =3)\n",
    "plt.title('Age vs Trip Duration (Test Set)')\n",
    "plt.xlabel('Age')\n",
    "plt.ylabel('Trip Duration')\n",
    "plt.show()"
   ]
  },
  {
   "cell_type": "markdown",
   "id": "44563f32",
   "metadata": {},
   "source": [
    "The line appears to fit the data very poorly. The line fits mostly with trip durations that are 60 minutes or fewer."
   ]
  },
  {
   "cell_type": "code",
   "execution_count": 24,
   "id": "7f7d353c",
   "metadata": {},
   "outputs": [],
   "source": [
    "# Create objects that contain the model summary statistics\n",
    "\n",
    "rmse = mean_squared_error(y_test, y_predicted) # This is the mean squared error\n",
    "r2 = r2_score(y_test, y_predicted) # This is the R2 score"
   ]
  },
  {
   "cell_type": "code",
   "execution_count": 25,
   "id": "963cc029",
   "metadata": {},
   "outputs": [
    {
     "name": "stdout",
     "output_type": "stream",
     "text": [
      "Slope: [[-0.06086029]]\n",
      "Mean squared error:  10675.543691566238\n",
      "R2 score:  4.278028055881844e-05\n"
     ]
    }
   ],
   "source": [
    "# Print the model summary statistics\n",
    "\n",
    "print('Slope:' ,regression.coef_)\n",
    "print('Mean squared error: ', rmse)\n",
    "print('R2 score: ', r2)"
   ]
  },
  {
   "cell_type": "code",
   "execution_count": 26,
   "id": "b54376d3",
   "metadata": {},
   "outputs": [
    {
     "data": {
      "text/html": [
       "<div>\n",
       "<style scoped>\n",
       "    .dataframe tbody tr th:only-of-type {\n",
       "        vertical-align: middle;\n",
       "    }\n",
       "\n",
       "    .dataframe tbody tr th {\n",
       "        vertical-align: top;\n",
       "    }\n",
       "\n",
       "    .dataframe thead th {\n",
       "        text-align: right;\n",
       "    }\n",
       "</style>\n",
       "<table border=\"1\" class=\"dataframe\">\n",
       "  <thead>\n",
       "    <tr style=\"text-align: right;\">\n",
       "      <th></th>\n",
       "      <th>Actual</th>\n",
       "      <th>Predicted</th>\n",
       "    </tr>\n",
       "  </thead>\n",
       "  <tbody>\n",
       "    <tr>\n",
       "      <th>0</th>\n",
       "      <td>6.950000</td>\n",
       "      <td>13.927639</td>\n",
       "    </tr>\n",
       "    <tr>\n",
       "      <th>1</th>\n",
       "      <td>13.050000</td>\n",
       "      <td>11.858389</td>\n",
       "    </tr>\n",
       "    <tr>\n",
       "      <th>2</th>\n",
       "      <td>27.420000</td>\n",
       "      <td>13.866779</td>\n",
       "    </tr>\n",
       "    <tr>\n",
       "      <th>3</th>\n",
       "      <td>11.870000</td>\n",
       "      <td>14.110220</td>\n",
       "    </tr>\n",
       "    <tr>\n",
       "      <th>4</th>\n",
       "      <td>19.080000</td>\n",
       "      <td>12.345272</td>\n",
       "    </tr>\n",
       "    <tr>\n",
       "      <th>5</th>\n",
       "      <td>5.820000</td>\n",
       "      <td>14.171080</td>\n",
       "    </tr>\n",
       "    <tr>\n",
       "      <th>6</th>\n",
       "      <td>28.430000</td>\n",
       "      <td>13.136455</td>\n",
       "    </tr>\n",
       "    <tr>\n",
       "      <th>7</th>\n",
       "      <td>3.350000</td>\n",
       "      <td>14.171080</td>\n",
       "    </tr>\n",
       "    <tr>\n",
       "      <th>8</th>\n",
       "      <td>5.770000</td>\n",
       "      <td>13.136455</td>\n",
       "    </tr>\n",
       "    <tr>\n",
       "      <th>9</th>\n",
       "      <td>12.220000</td>\n",
       "      <td>13.623338</td>\n",
       "    </tr>\n",
       "    <tr>\n",
       "      <th>10</th>\n",
       "      <td>3.820000</td>\n",
       "      <td>13.805919</td>\n",
       "    </tr>\n",
       "    <tr>\n",
       "      <th>11</th>\n",
       "      <td>10.430000</td>\n",
       "      <td>14.171080</td>\n",
       "    </tr>\n",
       "    <tr>\n",
       "      <th>12</th>\n",
       "      <td>5.300000</td>\n",
       "      <td>12.710433</td>\n",
       "    </tr>\n",
       "    <tr>\n",
       "      <th>13</th>\n",
       "      <td>9.130000</td>\n",
       "      <td>13.258176</td>\n",
       "    </tr>\n",
       "    <tr>\n",
       "      <th>14</th>\n",
       "      <td>20.129999</td>\n",
       "      <td>11.919249</td>\n",
       "    </tr>\n",
       "    <tr>\n",
       "      <th>15</th>\n",
       "      <td>20.680000</td>\n",
       "      <td>14.414522</td>\n",
       "    </tr>\n",
       "    <tr>\n",
       "      <th>16</th>\n",
       "      <td>2.800000</td>\n",
       "      <td>14.292801</td>\n",
       "    </tr>\n",
       "    <tr>\n",
       "      <th>17</th>\n",
       "      <td>15.170000</td>\n",
       "      <td>12.893014</td>\n",
       "    </tr>\n",
       "    <tr>\n",
       "      <th>18</th>\n",
       "      <td>19.250000</td>\n",
       "      <td>12.588713</td>\n",
       "    </tr>\n",
       "    <tr>\n",
       "      <th>19</th>\n",
       "      <td>8.550000</td>\n",
       "      <td>14.475382</td>\n",
       "    </tr>\n",
       "  </tbody>\n",
       "</table>\n",
       "</div>"
      ],
      "text/plain": [
       "       Actual  Predicted\n",
       "0    6.950000  13.927639\n",
       "1   13.050000  11.858389\n",
       "2   27.420000  13.866779\n",
       "3   11.870000  14.110220\n",
       "4   19.080000  12.345272\n",
       "5    5.820000  14.171080\n",
       "6   28.430000  13.136455\n",
       "7    3.350000  14.171080\n",
       "8    5.770000  13.136455\n",
       "9   12.220000  13.623338\n",
       "10   3.820000  13.805919\n",
       "11  10.430000  14.171080\n",
       "12   5.300000  12.710433\n",
       "13   9.130000  13.258176\n",
       "14  20.129999  11.919249\n",
       "15  20.680000  14.414522\n",
       "16   2.800000  14.292801\n",
       "17  15.170000  12.893014\n",
       "18  19.250000  12.588713\n",
       "19   8.550000  14.475382"
      ]
     },
     "execution_count": 26,
     "metadata": {},
     "output_type": "execute_result"
    }
   ],
   "source": [
    "# Create a dataframe comparing the actual and predicted values of y.\n",
    "\n",
    "compare = pd.DataFrame({'Actual': y_test.flatten(), 'Predicted': y_predicted.flatten()})\n",
    "compare.head(20)"
   ]
  },
  {
   "cell_type": "markdown",
   "id": "ed6f02a7",
   "metadata": {},
   "source": [
    "The model performed very poorly. We can see there are very big differences between the actual and predicted values. Furthermore, the R2 score is very close to 0, indicating a very poor fit. This was, however, to be expected since the correlation found in exercise 6.2 was close to 0, indicating there is no relationship between age and trip duration."
   ]
  },
  {
   "cell_type": "markdown",
   "id": "60881a43",
   "metadata": {},
   "source": [
    "<a id='start_trip'></a>\n",
    "## Regression analysis on start hour and trip duration"
   ]
  },
  {
   "cell_type": "code",
   "execution_count": 27,
   "id": "db84ced9",
   "metadata": {},
   "outputs": [],
   "source": [
    "# Reshape the variables into NumPy arrays and put them into separate objects\n",
    "\n",
    "X = df['start_hour'].values.reshape(-1,1)"
   ]
  },
  {
   "cell_type": "code",
   "execution_count": 28,
   "id": "c698b7e5",
   "metadata": {},
   "outputs": [],
   "source": [
    "# Split data into a training set and a test set\n",
    "\n",
    "X_train, X_test, y_train, y_test = train_test_split(X, y, test_size=0.3, random_state=0)"
   ]
  },
  {
   "cell_type": "code",
   "execution_count": 29,
   "id": "f9a8c61e",
   "metadata": {},
   "outputs": [
    {
     "data": {
      "text/html": [
       "<style>#sk-container-id-2 {color: black;}#sk-container-id-2 pre{padding: 0;}#sk-container-id-2 div.sk-toggleable {background-color: white;}#sk-container-id-2 label.sk-toggleable__label {cursor: pointer;display: block;width: 100%;margin-bottom: 0;padding: 0.3em;box-sizing: border-box;text-align: center;}#sk-container-id-2 label.sk-toggleable__label-arrow:before {content: \"▸\";float: left;margin-right: 0.25em;color: #696969;}#sk-container-id-2 label.sk-toggleable__label-arrow:hover:before {color: black;}#sk-container-id-2 div.sk-estimator:hover label.sk-toggleable__label-arrow:before {color: black;}#sk-container-id-2 div.sk-toggleable__content {max-height: 0;max-width: 0;overflow: hidden;text-align: left;background-color: #f0f8ff;}#sk-container-id-2 div.sk-toggleable__content pre {margin: 0.2em;color: black;border-radius: 0.25em;background-color: #f0f8ff;}#sk-container-id-2 input.sk-toggleable__control:checked~div.sk-toggleable__content {max-height: 200px;max-width: 100%;overflow: auto;}#sk-container-id-2 input.sk-toggleable__control:checked~label.sk-toggleable__label-arrow:before {content: \"▾\";}#sk-container-id-2 div.sk-estimator input.sk-toggleable__control:checked~label.sk-toggleable__label {background-color: #d4ebff;}#sk-container-id-2 div.sk-label input.sk-toggleable__control:checked~label.sk-toggleable__label {background-color: #d4ebff;}#sk-container-id-2 input.sk-hidden--visually {border: 0;clip: rect(1px 1px 1px 1px);clip: rect(1px, 1px, 1px, 1px);height: 1px;margin: -1px;overflow: hidden;padding: 0;position: absolute;width: 1px;}#sk-container-id-2 div.sk-estimator {font-family: monospace;background-color: #f0f8ff;border: 1px dotted black;border-radius: 0.25em;box-sizing: border-box;margin-bottom: 0.5em;}#sk-container-id-2 div.sk-estimator:hover {background-color: #d4ebff;}#sk-container-id-2 div.sk-parallel-item::after {content: \"\";width: 100%;border-bottom: 1px solid gray;flex-grow: 1;}#sk-container-id-2 div.sk-label:hover label.sk-toggleable__label {background-color: #d4ebff;}#sk-container-id-2 div.sk-serial::before {content: \"\";position: absolute;border-left: 1px solid gray;box-sizing: border-box;top: 0;bottom: 0;left: 50%;z-index: 0;}#sk-container-id-2 div.sk-serial {display: flex;flex-direction: column;align-items: center;background-color: white;padding-right: 0.2em;padding-left: 0.2em;position: relative;}#sk-container-id-2 div.sk-item {position: relative;z-index: 1;}#sk-container-id-2 div.sk-parallel {display: flex;align-items: stretch;justify-content: center;background-color: white;position: relative;}#sk-container-id-2 div.sk-item::before, #sk-container-id-2 div.sk-parallel-item::before {content: \"\";position: absolute;border-left: 1px solid gray;box-sizing: border-box;top: 0;bottom: 0;left: 50%;z-index: -1;}#sk-container-id-2 div.sk-parallel-item {display: flex;flex-direction: column;z-index: 1;position: relative;background-color: white;}#sk-container-id-2 div.sk-parallel-item:first-child::after {align-self: flex-end;width: 50%;}#sk-container-id-2 div.sk-parallel-item:last-child::after {align-self: flex-start;width: 50%;}#sk-container-id-2 div.sk-parallel-item:only-child::after {width: 0;}#sk-container-id-2 div.sk-dashed-wrapped {border: 1px dashed gray;margin: 0 0.4em 0.5em 0.4em;box-sizing: border-box;padding-bottom: 0.4em;background-color: white;}#sk-container-id-2 div.sk-label label {font-family: monospace;font-weight: bold;display: inline-block;line-height: 1.2em;}#sk-container-id-2 div.sk-label-container {text-align: center;}#sk-container-id-2 div.sk-container {/* jupyter's `normalize.less` sets `[hidden] { display: none; }` but bootstrap.min.css set `[hidden] { display: none !important; }` so we also need the `!important` here to be able to override the default hidden behavior on the sphinx rendered scikit-learn.org. See: https://github.com/scikit-learn/scikit-learn/issues/21755 */display: inline-block !important;position: relative;}#sk-container-id-2 div.sk-text-repr-fallback {display: none;}</style><div id=\"sk-container-id-2\" class=\"sk-top-container\"><div class=\"sk-text-repr-fallback\"><pre>LinearRegression()</pre><b>In a Jupyter environment, please rerun this cell to show the HTML representation or trust the notebook. <br />On GitHub, the HTML representation is unable to render, please try loading this page with nbviewer.org.</b></div><div class=\"sk-container\" hidden><div class=\"sk-item\"><div class=\"sk-estimator sk-toggleable\"><input class=\"sk-toggleable__control sk-hidden--visually\" id=\"sk-estimator-id-2\" type=\"checkbox\" checked><label for=\"sk-estimator-id-2\" class=\"sk-toggleable__label sk-toggleable__label-arrow\">LinearRegression</label><div class=\"sk-toggleable__content\"><pre>LinearRegression()</pre></div></div></div></div></div>"
      ],
      "text/plain": [
       "LinearRegression()"
      ]
     },
     "execution_count": 29,
     "metadata": {},
     "output_type": "execute_result"
    }
   ],
   "source": [
    "# Fit the regression object onto the training set\n",
    "\n",
    "regression.fit(X_train, y_train)"
   ]
  },
  {
   "cell_type": "code",
   "execution_count": 30,
   "id": "1cb87be8",
   "metadata": {},
   "outputs": [],
   "source": [
    "# Predict the values of y using X\n",
    "\n",
    "y_predicted = regression.predict(X_test)"
   ]
  },
  {
   "cell_type": "code",
   "execution_count": 31,
   "id": "d22d678f",
   "metadata": {},
   "outputs": [
    {
     "data": {
      "image/png": "[encoded data removed]",
      "text/plain": [
       "<Figure size 640x480 with 1 Axes>"
      ]
     },
     "metadata": {},
     "output_type": "display_data"
    }
   ],
   "source": [
    "# Create a plot that shows the regression line from the model on the test set.\n",
    "\n",
    "plt.scatter(X_test, y_test, color='gray', s = 15)\n",
    "plt.plot(X_test, y_predicted, color='red', linewidth =3)\n",
    "plt.title('Start Hour vs Trip Duration (Test Set)')\n",
    "plt.xlabel('Start Hour')\n",
    "plt.ylabel('Trip Duration')\n",
    "plt.show()"
   ]
  },
  {
   "cell_type": "markdown",
   "id": "f912f09f",
   "metadata": {},
   "source": [
    "The line appears to fit the data very poorly. The line fits mostly with trip durations that are 60 minutes or fewer."
   ]
  },
  {
   "cell_type": "code",
   "execution_count": 32,
   "id": "f822666e",
   "metadata": {},
   "outputs": [],
   "source": [
    "# Create objects that contain the model summary statistics\n",
    "\n",
    "rmse = mean_squared_error(y_test, y_predicted) # This is the mean squared error\n",
    "r2 = r2_score(y_test, y_predicted) # This is the R2 score"
   ]
  },
  {
   "cell_type": "code",
   "execution_count": 33,
   "id": "3732af79",
   "metadata": {},
   "outputs": [
    {
     "name": "stdout",
     "output_type": "stream",
     "text": [
      "Slope: [[0.13201353]]\n",
      "Mean squared error:  10675.980489977126\n",
      "R2 score:  1.866230918801115e-06\n"
     ]
    }
   ],
   "source": [
    "# Print the model summary statistics\n",
    "\n",
    "print('Slope:' ,regression.coef_)\n",
    "print('Mean squared error: ', rmse)\n",
    "print('R2 score: ', r2)"
   ]
  },
  {
   "cell_type": "code",
   "execution_count": 34,
   "id": "1ec91e6c",
   "metadata": {},
   "outputs": [
    {
     "data": {
      "text/html": [
       "<div>\n",
       "<style scoped>\n",
       "    .dataframe tbody tr th:only-of-type {\n",
       "        vertical-align: middle;\n",
       "    }\n",
       "\n",
       "    .dataframe tbody tr th {\n",
       "        vertical-align: top;\n",
       "    }\n",
       "\n",
       "    .dataframe thead th {\n",
       "        text-align: right;\n",
       "    }\n",
       "</style>\n",
       "<table border=\"1\" class=\"dataframe\">\n",
       "  <thead>\n",
       "    <tr style=\"text-align: right;\">\n",
       "      <th></th>\n",
       "      <th>Actual</th>\n",
       "      <th>Predicted</th>\n",
       "    </tr>\n",
       "  </thead>\n",
       "  <tbody>\n",
       "    <tr>\n",
       "      <th>0</th>\n",
       "      <td>6.950000</td>\n",
       "      <td>12.773004</td>\n",
       "    </tr>\n",
       "    <tr>\n",
       "      <th>1</th>\n",
       "      <td>13.050000</td>\n",
       "      <td>13.565085</td>\n",
       "    </tr>\n",
       "    <tr>\n",
       "      <th>2</th>\n",
       "      <td>27.420000</td>\n",
       "      <td>13.433072</td>\n",
       "    </tr>\n",
       "    <tr>\n",
       "      <th>3</th>\n",
       "      <td>11.870000</td>\n",
       "      <td>14.093139</td>\n",
       "    </tr>\n",
       "    <tr>\n",
       "      <th>4</th>\n",
       "      <td>19.080000</td>\n",
       "      <td>14.753207</td>\n",
       "    </tr>\n",
       "    <tr>\n",
       "      <th>5</th>\n",
       "      <td>5.820000</td>\n",
       "      <td>13.961126</td>\n",
       "    </tr>\n",
       "    <tr>\n",
       "      <th>6</th>\n",
       "      <td>28.430000</td>\n",
       "      <td>14.093139</td>\n",
       "    </tr>\n",
       "    <tr>\n",
       "      <th>7</th>\n",
       "      <td>3.350000</td>\n",
       "      <td>14.357166</td>\n",
       "    </tr>\n",
       "    <tr>\n",
       "      <th>8</th>\n",
       "      <td>5.770000</td>\n",
       "      <td>13.829112</td>\n",
       "    </tr>\n",
       "    <tr>\n",
       "      <th>9</th>\n",
       "      <td>12.220000</td>\n",
       "      <td>11.980923</td>\n",
       "    </tr>\n",
       "    <tr>\n",
       "      <th>10</th>\n",
       "      <td>3.820000</td>\n",
       "      <td>14.225153</td>\n",
       "    </tr>\n",
       "    <tr>\n",
       "      <th>11</th>\n",
       "      <td>10.430000</td>\n",
       "      <td>13.433072</td>\n",
       "    </tr>\n",
       "    <tr>\n",
       "      <th>12</th>\n",
       "      <td>5.300000</td>\n",
       "      <td>14.621193</td>\n",
       "    </tr>\n",
       "    <tr>\n",
       "      <th>13</th>\n",
       "      <td>9.130000</td>\n",
       "      <td>12.905017</td>\n",
       "    </tr>\n",
       "    <tr>\n",
       "      <th>14</th>\n",
       "      <td>20.129999</td>\n",
       "      <td>12.905017</td>\n",
       "    </tr>\n",
       "    <tr>\n",
       "      <th>15</th>\n",
       "      <td>20.680000</td>\n",
       "      <td>11.848909</td>\n",
       "    </tr>\n",
       "    <tr>\n",
       "      <th>16</th>\n",
       "      <td>2.800000</td>\n",
       "      <td>13.565085</td>\n",
       "    </tr>\n",
       "    <tr>\n",
       "      <th>17</th>\n",
       "      <td>15.170000</td>\n",
       "      <td>14.093139</td>\n",
       "    </tr>\n",
       "    <tr>\n",
       "      <th>18</th>\n",
       "      <td>19.250000</td>\n",
       "      <td>12.773004</td>\n",
       "    </tr>\n",
       "    <tr>\n",
       "      <th>19</th>\n",
       "      <td>8.550000</td>\n",
       "      <td>13.037031</td>\n",
       "    </tr>\n",
       "  </tbody>\n",
       "</table>\n",
       "</div>"
      ],
      "text/plain": [
       "       Actual  Predicted\n",
       "0    6.950000  12.773004\n",
       "1   13.050000  13.565085\n",
       "2   27.420000  13.433072\n",
       "3   11.870000  14.093139\n",
       "4   19.080000  14.753207\n",
       "5    5.820000  13.961126\n",
       "6   28.430000  14.093139\n",
       "7    3.350000  14.357166\n",
       "8    5.770000  13.829112\n",
       "9   12.220000  11.980923\n",
       "10   3.820000  14.225153\n",
       "11  10.430000  13.433072\n",
       "12   5.300000  14.621193\n",
       "13   9.130000  12.905017\n",
       "14  20.129999  12.905017\n",
       "15  20.680000  11.848909\n",
       "16   2.800000  13.565085\n",
       "17  15.170000  14.093139\n",
       "18  19.250000  12.773004\n",
       "19   8.550000  13.037031"
      ]
     },
     "execution_count": 34,
     "metadata": {},
     "output_type": "execute_result"
    }
   ],
   "source": [
    "# Create a dataframe comparing the actual and predicted values of y.\n",
    "\n",
    "compare = pd.DataFrame({'Actual': y_test.flatten(), 'Predicted': y_predicted.flatten()})\n",
    "compare.head(20)"
   ]
  },
  {
   "cell_type": "markdown",
   "id": "d3383c23",
   "metadata": {},
   "source": [
    "The model performed very poorly. We can see there are very big differences between the actual and predicted values. Furthermore, the R2 score is very close to 0, indicating a very poor fit. This was, however, to be expected since the correlation found in exercise 6.2 was close to 0, indicating there is no relationship between start hour and trip duration."
   ]
  },
  {
   "cell_type": "markdown",
   "id": "de291ca3",
   "metadata": {},
   "source": [
    "<a id='Regression_analysis_no_outliers'></a>\n",
    "# 7. Regression analysis without outliers"
   ]
  },
  {
   "cell_type": "markdown",
   "id": "f2643065",
   "metadata": {},
   "source": [
    "<a id='age_trip_no_outliers'></a>\n",
    "## Regression analysis on age and trip duration"
   ]
  },
  {
   "cell_type": "code",
   "execution_count": 35,
   "id": "79733938",
   "metadata": {},
   "outputs": [],
   "source": [
    "# Remove extreme values\n",
    "\n",
    "df = df.loc[df['trip_duration'] <= 90]"
   ]
  },
  {
   "cell_type": "markdown",
   "id": "9c1d3c1f",
   "metadata": {},
   "source": [
    "90 was picked because it is beyond belief a Citi Bike user would need to borrow a bike for more than 90 minutes!"
   ]
  },
  {
   "cell_type": "code",
   "execution_count": 36,
   "id": "d96663a8",
   "metadata": {},
   "outputs": [],
   "source": [
    "# Reshape the variables into NumPy arrays and put them into separate objects\n",
    "\n",
    "X = df['age'].values.reshape(-1,1)\n",
    "y = df['trip_duration'].values.reshape(-1,1)"
   ]
  },
  {
   "cell_type": "code",
   "execution_count": 37,
   "id": "59eb4c8e",
   "metadata": {},
   "outputs": [],
   "source": [
    "# Split data into a training set and a test set\n",
    "\n",
    "X_train, X_test, y_train, y_test = train_test_split(X, y, test_size=0.3, random_state=0)"
   ]
  },
  {
   "cell_type": "code",
   "execution_count": 38,
   "id": "fe8af378",
   "metadata": {},
   "outputs": [
    {
     "data": {
      "text/html": [
       "<style>#sk-container-id-3 {color: black;}#sk-container-id-3 pre{padding: 0;}#sk-container-id-3 div.sk-toggleable {background-color: white;}#sk-container-id-3 label.sk-toggleable__label {cursor: pointer;display: block;width: 100%;margin-bottom: 0;padding: 0.3em;box-sizing: border-box;text-align: center;}#sk-container-id-3 label.sk-toggleable__label-arrow:before {content: \"▸\";float: left;margin-right: 0.25em;color: #696969;}#sk-container-id-3 label.sk-toggleable__label-arrow:hover:before {color: black;}#sk-container-id-3 div.sk-estimator:hover label.sk-toggleable__label-arrow:before {color: black;}#sk-container-id-3 div.sk-toggleable__content {max-height: 0;max-width: 0;overflow: hidden;text-align: left;background-color: #f0f8ff;}#sk-container-id-3 div.sk-toggleable__content pre {margin: 0.2em;color: black;border-radius: 0.25em;background-color: #f0f8ff;}#sk-container-id-3 input.sk-toggleable__control:checked~div.sk-toggleable__content {max-height: 200px;max-width: 100%;overflow: auto;}#sk-container-id-3 input.sk-toggleable__control:checked~label.sk-toggleable__label-arrow:before {content: \"▾\";}#sk-container-id-3 div.sk-estimator input.sk-toggleable__control:checked~label.sk-toggleable__label {background-color: #d4ebff;}#sk-container-id-3 div.sk-label input.sk-toggleable__control:checked~label.sk-toggleable__label {background-color: #d4ebff;}#sk-container-id-3 input.sk-hidden--visually {border: 0;clip: rect(1px 1px 1px 1px);clip: rect(1px, 1px, 1px, 1px);height: 1px;margin: -1px;overflow: hidden;padding: 0;position: absolute;width: 1px;}#sk-container-id-3 div.sk-estimator {font-family: monospace;background-color: #f0f8ff;border: 1px dotted black;border-radius: 0.25em;box-sizing: border-box;margin-bottom: 0.5em;}#sk-container-id-3 div.sk-estimator:hover {background-color: #d4ebff;}#sk-container-id-3 div.sk-parallel-item::after {content: \"\";width: 100%;border-bottom: 1px solid gray;flex-grow: 1;}#sk-container-id-3 div.sk-label:hover label.sk-toggleable__label {background-color: #d4ebff;}#sk-container-id-3 div.sk-serial::before {content: \"\";position: absolute;border-left: 1px solid gray;box-sizing: border-box;top: 0;bottom: 0;left: 50%;z-index: 0;}#sk-container-id-3 div.sk-serial {display: flex;flex-direction: column;align-items: center;background-color: white;padding-right: 0.2em;padding-left: 0.2em;position: relative;}#sk-container-id-3 div.sk-item {position: relative;z-index: 1;}#sk-container-id-3 div.sk-parallel {display: flex;align-items: stretch;justify-content: center;background-color: white;position: relative;}#sk-container-id-3 div.sk-item::before, #sk-container-id-3 div.sk-parallel-item::before {content: \"\";position: absolute;border-left: 1px solid gray;box-sizing: border-box;top: 0;bottom: 0;left: 50%;z-index: -1;}#sk-container-id-3 div.sk-parallel-item {display: flex;flex-direction: column;z-index: 1;position: relative;background-color: white;}#sk-container-id-3 div.sk-parallel-item:first-child::after {align-self: flex-end;width: 50%;}#sk-container-id-3 div.sk-parallel-item:last-child::after {align-self: flex-start;width: 50%;}#sk-container-id-3 div.sk-parallel-item:only-child::after {width: 0;}#sk-container-id-3 div.sk-dashed-wrapped {border: 1px dashed gray;margin: 0 0.4em 0.5em 0.4em;box-sizing: border-box;padding-bottom: 0.4em;background-color: white;}#sk-container-id-3 div.sk-label label {font-family: monospace;font-weight: bold;display: inline-block;line-height: 1.2em;}#sk-container-id-3 div.sk-label-container {text-align: center;}#sk-container-id-3 div.sk-container {/* jupyter's `normalize.less` sets `[hidden] { display: none; }` but bootstrap.min.css set `[hidden] { display: none !important; }` so we also need the `!important` here to be able to override the default hidden behavior on the sphinx rendered scikit-learn.org. See: https://github.com/scikit-learn/scikit-learn/issues/21755 */display: inline-block !important;position: relative;}#sk-container-id-3 div.sk-text-repr-fallback {display: none;}</style><div id=\"sk-container-id-3\" class=\"sk-top-container\"><div class=\"sk-text-repr-fallback\"><pre>LinearRegression()</pre><b>In a Jupyter environment, please rerun this cell to show the HTML representation or trust the notebook. <br />On GitHub, the HTML representation is unable to render, please try loading this page with nbviewer.org.</b></div><div class=\"sk-container\" hidden><div class=\"sk-item\"><div class=\"sk-estimator sk-toggleable\"><input class=\"sk-toggleable__control sk-hidden--visually\" id=\"sk-estimator-id-3\" type=\"checkbox\" checked><label for=\"sk-estimator-id-3\" class=\"sk-toggleable__label sk-toggleable__label-arrow\">LinearRegression</label><div class=\"sk-toggleable__content\"><pre>LinearRegression()</pre></div></div></div></div></div>"
      ],
      "text/plain": [
       "LinearRegression()"
      ]
     },
     "execution_count": 38,
     "metadata": {},
     "output_type": "execute_result"
    }
   ],
   "source": [
    "# Fit the regression object onto the training set\n",
    "\n",
    "regression.fit(X_train, y_train)"
   ]
  },
  {
   "cell_type": "code",
   "execution_count": 39,
   "id": "7d09f727",
   "metadata": {},
   "outputs": [],
   "source": [
    "# Predict the values of y using X\n",
    "\n",
    "y_predicted = regression.predict(X_test)"
   ]
  },
  {
   "cell_type": "code",
   "execution_count": 40,
   "id": "0a207d72",
   "metadata": {},
   "outputs": [
    {
     "data": {
      "image/png": "[encoded data removed]",
      "text/plain": [
       "<Figure size 640x480 with 1 Axes>"
      ]
     },
     "metadata": {},
     "output_type": "display_data"
    }
   ],
   "source": [
    "# Create a plot that shows the regression line from the model on the test set.\n",
    "\n",
    "plt.scatter(X_test, y_test, color='gray', s = 15)\n",
    "plt.plot(X_test, y_predicted, color='red', linewidth =3)\n",
    "plt.title('Age vs Trip Duration (Test Set)')\n",
    "plt.xlabel('Age')\n",
    "plt.ylabel('Trip Duration')\n",
    "plt.show()"
   ]
  },
  {
   "cell_type": "markdown",
   "id": "797e644d",
   "metadata": {},
   "source": [
    "The line appears to fit the data poorly. There are so many values above and below the regression line."
   ]
  },
  {
   "cell_type": "code",
   "execution_count": 41,
   "id": "76554c4d",
   "metadata": {},
   "outputs": [],
   "source": [
    "# Create objects that contain the model summary statistics\n",
    "\n",
    "rmse = mean_squared_error(y_test, y_predicted) # This is the mean squared error\n",
    "r2 = r2_score(y_test, y_predicted) # This is the R2 score"
   ]
  },
  {
   "cell_type": "code",
   "execution_count": 42,
   "id": "98e06301",
   "metadata": {},
   "outputs": [
    {
     "name": "stdout",
     "output_type": "stream",
     "text": [
      "Slope: [[-0.02247475]]\n",
      "Mean squared error:  92.15825260861203\n",
      "R2 score:  0.0007036657834929017\n"
     ]
    }
   ],
   "source": [
    "# Print the model summary statistics\n",
    "\n",
    "print('Slope:' ,regression.coef_)\n",
    "print('Mean squared error: ', rmse)\n",
    "print('R2 score: ', r2)"
   ]
  },
  {
   "cell_type": "code",
   "execution_count": 43,
   "id": "a82b5453",
   "metadata": {},
   "outputs": [
    {
     "data": {
      "text/html": [
       "<div>\n",
       "<style scoped>\n",
       "    .dataframe tbody tr th:only-of-type {\n",
       "        vertical-align: middle;\n",
       "    }\n",
       "\n",
       "    .dataframe tbody tr th {\n",
       "        vertical-align: top;\n",
       "    }\n",
       "\n",
       "    .dataframe thead th {\n",
       "        text-align: right;\n",
       "    }\n",
       "</style>\n",
       "<table border=\"1\" class=\"dataframe\">\n",
       "  <thead>\n",
       "    <tr style=\"text-align: right;\">\n",
       "      <th></th>\n",
       "      <th>Actual</th>\n",
       "      <th>Predicted</th>\n",
       "    </tr>\n",
       "  </thead>\n",
       "  <tbody>\n",
       "    <tr>\n",
       "      <th>0</th>\n",
       "      <td>10.230000</td>\n",
       "      <td>11.752521</td>\n",
       "    </tr>\n",
       "    <tr>\n",
       "      <th>1</th>\n",
       "      <td>7.170000</td>\n",
       "      <td>11.258077</td>\n",
       "    </tr>\n",
       "    <tr>\n",
       "      <th>2</th>\n",
       "      <td>7.800000</td>\n",
       "      <td>11.819946</td>\n",
       "    </tr>\n",
       "    <tr>\n",
       "      <th>3</th>\n",
       "      <td>3.430000</td>\n",
       "      <td>11.460350</td>\n",
       "    </tr>\n",
       "    <tr>\n",
       "      <th>4</th>\n",
       "      <td>4.080000</td>\n",
       "      <td>11.909845</td>\n",
       "    </tr>\n",
       "    <tr>\n",
       "      <th>5</th>\n",
       "      <td>10.420000</td>\n",
       "      <td>11.617673</td>\n",
       "    </tr>\n",
       "    <tr>\n",
       "      <th>6</th>\n",
       "      <td>10.670000</td>\n",
       "      <td>11.864895</td>\n",
       "    </tr>\n",
       "    <tr>\n",
       "      <th>7</th>\n",
       "      <td>7.280000</td>\n",
       "      <td>11.842420</td>\n",
       "    </tr>\n",
       "    <tr>\n",
       "      <th>8</th>\n",
       "      <td>22.450001</td>\n",
       "      <td>11.819946</td>\n",
       "    </tr>\n",
       "    <tr>\n",
       "      <th>9</th>\n",
       "      <td>5.020000</td>\n",
       "      <td>11.887370</td>\n",
       "    </tr>\n",
       "    <tr>\n",
       "      <th>10</th>\n",
       "      <td>1.380000</td>\n",
       "      <td>11.887370</td>\n",
       "    </tr>\n",
       "    <tr>\n",
       "      <th>11</th>\n",
       "      <td>4.380000</td>\n",
       "      <td>11.774996</td>\n",
       "    </tr>\n",
       "    <tr>\n",
       "      <th>12</th>\n",
       "      <td>3.650000</td>\n",
       "      <td>11.954794</td>\n",
       "    </tr>\n",
       "    <tr>\n",
       "      <th>13</th>\n",
       "      <td>1.800000</td>\n",
       "      <td>11.550249</td>\n",
       "    </tr>\n",
       "    <tr>\n",
       "      <th>14</th>\n",
       "      <td>5.400000</td>\n",
       "      <td>11.213127</td>\n",
       "    </tr>\n",
       "    <tr>\n",
       "      <th>15</th>\n",
       "      <td>14.950000</td>\n",
       "      <td>11.909845</td>\n",
       "    </tr>\n",
       "    <tr>\n",
       "      <th>16</th>\n",
       "      <td>8.880000</td>\n",
       "      <td>11.909845</td>\n",
       "    </tr>\n",
       "    <tr>\n",
       "      <th>17</th>\n",
       "      <td>3.670000</td>\n",
       "      <td>11.887370</td>\n",
       "    </tr>\n",
       "    <tr>\n",
       "      <th>18</th>\n",
       "      <td>5.980000</td>\n",
       "      <td>11.662622</td>\n",
       "    </tr>\n",
       "    <tr>\n",
       "      <th>19</th>\n",
       "      <td>6.500000</td>\n",
       "      <td>11.392925</td>\n",
       "    </tr>\n",
       "  </tbody>\n",
       "</table>\n",
       "</div>"
      ],
      "text/plain": [
       "       Actual  Predicted\n",
       "0   10.230000  11.752521\n",
       "1    7.170000  11.258077\n",
       "2    7.800000  11.819946\n",
       "3    3.430000  11.460350\n",
       "4    4.080000  11.909845\n",
       "5   10.420000  11.617673\n",
       "6   10.670000  11.864895\n",
       "7    7.280000  11.842420\n",
       "8   22.450001  11.819946\n",
       "9    5.020000  11.887370\n",
       "10   1.380000  11.887370\n",
       "11   4.380000  11.774996\n",
       "12   3.650000  11.954794\n",
       "13   1.800000  11.550249\n",
       "14   5.400000  11.213127\n",
       "15  14.950000  11.909845\n",
       "16   8.880000  11.909845\n",
       "17   3.670000  11.887370\n",
       "18   5.980000  11.662622\n",
       "19   6.500000  11.392925"
      ]
     },
     "execution_count": 43,
     "metadata": {},
     "output_type": "execute_result"
    }
   ],
   "source": [
    "# Create a dataframe comparing the actual and predicted values of y.\n",
    "\n",
    "compare = pd.DataFrame({'Actual': y_test.flatten(), 'Predicted': y_predicted.flatten()})\n",
    "compare.head(20)"
   ]
  },
  {
   "cell_type": "markdown",
   "id": "1a92ea93",
   "metadata": {},
   "source": [
    "The model performed very poorly even with extreme values removed. We can see there are very big differences between the actual and predicted values. Furthermore, the R2 score is very close to 0, indicating a very poor fit."
   ]
  },
  {
   "cell_type": "markdown",
   "id": "c1809e83",
   "metadata": {},
   "source": [
    "<a id='start_trip_no_outliers'></a>\n",
    "## Regression analysis on start hour and trip duration"
   ]
  },
  {
   "cell_type": "code",
   "execution_count": 44,
   "id": "b5522eac",
   "metadata": {},
   "outputs": [],
   "source": [
    "# Reshape the variables into NumPy arrays and put them into separate objects\n",
    "\n",
    "X = df['start_hour'].values.reshape(-1,1)"
   ]
  },
  {
   "cell_type": "code",
   "execution_count": 45,
   "id": "67cf1c9f",
   "metadata": {},
   "outputs": [],
   "source": [
    "# Split data into a training set and a test set\n",
    "\n",
    "X_train, X_test, y_train, y_test = train_test_split(X, y, test_size=0.3, random_state=0)"
   ]
  },
  {
   "cell_type": "code",
   "execution_count": 46,
   "id": "8cc8fd77",
   "metadata": {},
   "outputs": [
    {
     "data": {
      "text/html": [
       "<style>#sk-container-id-4 {color: black;}#sk-container-id-4 pre{padding: 0;}#sk-container-id-4 div.sk-toggleable {background-color: white;}#sk-container-id-4 label.sk-toggleable__label {cursor: pointer;display: block;width: 100%;margin-bottom: 0;padding: 0.3em;box-sizing: border-box;text-align: center;}#sk-container-id-4 label.sk-toggleable__label-arrow:before {content: \"▸\";float: left;margin-right: 0.25em;color: #696969;}#sk-container-id-4 label.sk-toggleable__label-arrow:hover:before {color: black;}#sk-container-id-4 div.sk-estimator:hover label.sk-toggleable__label-arrow:before {color: black;}#sk-container-id-4 div.sk-toggleable__content {max-height: 0;max-width: 0;overflow: hidden;text-align: left;background-color: #f0f8ff;}#sk-container-id-4 div.sk-toggleable__content pre {margin: 0.2em;color: black;border-radius: 0.25em;background-color: #f0f8ff;}#sk-container-id-4 input.sk-toggleable__control:checked~div.sk-toggleable__content {max-height: 200px;max-width: 100%;overflow: auto;}#sk-container-id-4 input.sk-toggleable__control:checked~label.sk-toggleable__label-arrow:before {content: \"▾\";}#sk-container-id-4 div.sk-estimator input.sk-toggleable__control:checked~label.sk-toggleable__label {background-color: #d4ebff;}#sk-container-id-4 div.sk-label input.sk-toggleable__control:checked~label.sk-toggleable__label {background-color: #d4ebff;}#sk-container-id-4 input.sk-hidden--visually {border: 0;clip: rect(1px 1px 1px 1px);clip: rect(1px, 1px, 1px, 1px);height: 1px;margin: -1px;overflow: hidden;padding: 0;position: absolute;width: 1px;}#sk-container-id-4 div.sk-estimator {font-family: monospace;background-color: #f0f8ff;border: 1px dotted black;border-radius: 0.25em;box-sizing: border-box;margin-bottom: 0.5em;}#sk-container-id-4 div.sk-estimator:hover {background-color: #d4ebff;}#sk-container-id-4 div.sk-parallel-item::after {content: \"\";width: 100%;border-bottom: 1px solid gray;flex-grow: 1;}#sk-container-id-4 div.sk-label:hover label.sk-toggleable__label {background-color: #d4ebff;}#sk-container-id-4 div.sk-serial::before {content: \"\";position: absolute;border-left: 1px solid gray;box-sizing: border-box;top: 0;bottom: 0;left: 50%;z-index: 0;}#sk-container-id-4 div.sk-serial {display: flex;flex-direction: column;align-items: center;background-color: white;padding-right: 0.2em;padding-left: 0.2em;position: relative;}#sk-container-id-4 div.sk-item {position: relative;z-index: 1;}#sk-container-id-4 div.sk-parallel {display: flex;align-items: stretch;justify-content: center;background-color: white;position: relative;}#sk-container-id-4 div.sk-item::before, #sk-container-id-4 div.sk-parallel-item::before {content: \"\";position: absolute;border-left: 1px solid gray;box-sizing: border-box;top: 0;bottom: 0;left: 50%;z-index: -1;}#sk-container-id-4 div.sk-parallel-item {display: flex;flex-direction: column;z-index: 1;position: relative;background-color: white;}#sk-container-id-4 div.sk-parallel-item:first-child::after {align-self: flex-end;width: 50%;}#sk-container-id-4 div.sk-parallel-item:last-child::after {align-self: flex-start;width: 50%;}#sk-container-id-4 div.sk-parallel-item:only-child::after {width: 0;}#sk-container-id-4 div.sk-dashed-wrapped {border: 1px dashed gray;margin: 0 0.4em 0.5em 0.4em;box-sizing: border-box;padding-bottom: 0.4em;background-color: white;}#sk-container-id-4 div.sk-label label {font-family: monospace;font-weight: bold;display: inline-block;line-height: 1.2em;}#sk-container-id-4 div.sk-label-container {text-align: center;}#sk-container-id-4 div.sk-container {/* jupyter's `normalize.less` sets `[hidden] { display: none; }` but bootstrap.min.css set `[hidden] { display: none !important; }` so we also need the `!important` here to be able to override the default hidden behavior on the sphinx rendered scikit-learn.org. See: https://github.com/scikit-learn/scikit-learn/issues/21755 */display: inline-block !important;position: relative;}#sk-container-id-4 div.sk-text-repr-fallback {display: none;}</style><div id=\"sk-container-id-4\" class=\"sk-top-container\"><div class=\"sk-text-repr-fallback\"><pre>LinearRegression()</pre><b>In a Jupyter environment, please rerun this cell to show the HTML representation or trust the notebook. <br />On GitHub, the HTML representation is unable to render, please try loading this page with nbviewer.org.</b></div><div class=\"sk-container\" hidden><div class=\"sk-item\"><div class=\"sk-estimator sk-toggleable\"><input class=\"sk-toggleable__control sk-hidden--visually\" id=\"sk-estimator-id-4\" type=\"checkbox\" checked><label for=\"sk-estimator-id-4\" class=\"sk-toggleable__label sk-toggleable__label-arrow\">LinearRegression</label><div class=\"sk-toggleable__content\"><pre>LinearRegression()</pre></div></div></div></div></div>"
      ],
      "text/plain": [
       "LinearRegression()"
      ]
     },
     "execution_count": 46,
     "metadata": {},
     "output_type": "execute_result"
    }
   ],
   "source": [
    "# Fit the regression object onto the training set\n",
    "\n",
    "regression.fit(X_train, y_train)"
   ]
  },
  {
   "cell_type": "code",
   "execution_count": 47,
   "id": "0a864d91",
   "metadata": {},
   "outputs": [],
   "source": [
    "# Predict the values of y using X\n",
    "\n",
    "y_predicted = regression.predict(X_test)"
   ]
  },
  {
   "cell_type": "code",
   "execution_count": 48,
   "id": "794df722",
   "metadata": {},
   "outputs": [
    {
     "data": {
      "image/png": "[encoded data removed]",
      "text/plain": [
       "<Figure size 640x480 with 1 Axes>"
      ]
     },
     "metadata": {},
     "output_type": "display_data"
    }
   ],
   "source": [
    "# Create a plot that shows the regression line from the model on the test set.\n",
    "\n",
    "plt.scatter(X_test, y_test, color='gray', s = 15)\n",
    "plt.plot(X_test, y_predicted, color='red', linewidth =3)\n",
    "plt.title('Start Hour vs Trip Duration (Test Set)')\n",
    "plt.xlabel('Start Hour')\n",
    "plt.ylabel('Trip Duration')\n",
    "plt.show()"
   ]
  },
  {
   "cell_type": "markdown",
   "id": "a07f23b8",
   "metadata": {},
   "source": [
    "The line appears to fit the data poorly. There are so many values above and below the regression line."
   ]
  },
  {
   "cell_type": "code",
   "execution_count": 49,
   "id": "25747692",
   "metadata": {},
   "outputs": [],
   "source": [
    "# Create objects that contain the model summary statistics\n",
    "\n",
    "rmse = mean_squared_error(y_test, y_predicted) # This is the mean squared error\n",
    "r2 = r2_score(y_test, y_predicted) # This is the R2 score"
   ]
  },
  {
   "cell_type": "code",
   "execution_count": 50,
   "id": "2343ac3b",
   "metadata": {},
   "outputs": [
    {
     "name": "stdout",
     "output_type": "stream",
     "text": [
      "Slope: [[0.0707666]]\n",
      "Mean squared error:  92.08753932045559\n",
      "R2 score:  0.001470428690068748\n"
     ]
    }
   ],
   "source": [
    "# Print the model summary statistics\n",
    "\n",
    "print('Slope:' ,regression.coef_)\n",
    "print('Mean squared error: ', rmse)\n",
    "print('R2 score: ', r2)"
   ]
  },
  {
   "cell_type": "code",
   "execution_count": 51,
   "id": "896ad4ee",
   "metadata": {},
   "outputs": [
    {
     "data": {
      "text/html": [
       "<div>\n",
       "<style scoped>\n",
       "    .dataframe tbody tr th:only-of-type {\n",
       "        vertical-align: middle;\n",
       "    }\n",
       "\n",
       "    .dataframe tbody tr th {\n",
       "        vertical-align: top;\n",
       "    }\n",
       "\n",
       "    .dataframe thead th {\n",
       "        text-align: right;\n",
       "    }\n",
       "</style>\n",
       "<table border=\"1\" class=\"dataframe\">\n",
       "  <thead>\n",
       "    <tr style=\"text-align: right;\">\n",
       "      <th></th>\n",
       "      <th>Actual</th>\n",
       "      <th>Predicted</th>\n",
       "    </tr>\n",
       "  </thead>\n",
       "  <tbody>\n",
       "    <tr>\n",
       "      <th>0</th>\n",
       "      <td>10.230000</td>\n",
       "      <td>11.997433</td>\n",
       "    </tr>\n",
       "    <tr>\n",
       "      <th>1</th>\n",
       "      <td>7.170000</td>\n",
       "      <td>11.502066</td>\n",
       "    </tr>\n",
       "    <tr>\n",
       "      <th>2</th>\n",
       "      <td>7.800000</td>\n",
       "      <td>11.643600</td>\n",
       "    </tr>\n",
       "    <tr>\n",
       "      <th>3</th>\n",
       "      <td>3.430000</td>\n",
       "      <td>11.997433</td>\n",
       "    </tr>\n",
       "    <tr>\n",
       "      <th>4</th>\n",
       "      <td>4.080000</td>\n",
       "      <td>11.148233</td>\n",
       "    </tr>\n",
       "    <tr>\n",
       "      <th>5</th>\n",
       "      <td>10.420000</td>\n",
       "      <td>11.785133</td>\n",
       "    </tr>\n",
       "    <tr>\n",
       "      <th>6</th>\n",
       "      <td>10.670000</td>\n",
       "      <td>11.997433</td>\n",
       "    </tr>\n",
       "    <tr>\n",
       "      <th>7</th>\n",
       "      <td>7.280000</td>\n",
       "      <td>11.997433</td>\n",
       "    </tr>\n",
       "    <tr>\n",
       "      <th>8</th>\n",
       "      <td>22.450001</td>\n",
       "      <td>12.138966</td>\n",
       "    </tr>\n",
       "    <tr>\n",
       "      <th>9</th>\n",
       "      <td>5.020000</td>\n",
       "      <td>12.280499</td>\n",
       "    </tr>\n",
       "    <tr>\n",
       "      <th>10</th>\n",
       "      <td>1.380000</td>\n",
       "      <td>11.926666</td>\n",
       "    </tr>\n",
       "    <tr>\n",
       "      <th>11</th>\n",
       "      <td>4.380000</td>\n",
       "      <td>11.714366</td>\n",
       "    </tr>\n",
       "    <tr>\n",
       "      <th>12</th>\n",
       "      <td>3.650000</td>\n",
       "      <td>11.148233</td>\n",
       "    </tr>\n",
       "    <tr>\n",
       "      <th>13</th>\n",
       "      <td>1.800000</td>\n",
       "      <td>11.219000</td>\n",
       "    </tr>\n",
       "    <tr>\n",
       "      <th>14</th>\n",
       "      <td>5.400000</td>\n",
       "      <td>11.926666</td>\n",
       "    </tr>\n",
       "    <tr>\n",
       "      <th>15</th>\n",
       "      <td>14.950000</td>\n",
       "      <td>11.360533</td>\n",
       "    </tr>\n",
       "    <tr>\n",
       "      <th>16</th>\n",
       "      <td>8.880000</td>\n",
       "      <td>11.431300</td>\n",
       "    </tr>\n",
       "    <tr>\n",
       "      <th>17</th>\n",
       "      <td>3.670000</td>\n",
       "      <td>11.855899</td>\n",
       "    </tr>\n",
       "    <tr>\n",
       "      <th>18</th>\n",
       "      <td>5.980000</td>\n",
       "      <td>11.714366</td>\n",
       "    </tr>\n",
       "    <tr>\n",
       "      <th>19</th>\n",
       "      <td>6.500000</td>\n",
       "      <td>11.289767</td>\n",
       "    </tr>\n",
       "  </tbody>\n",
       "</table>\n",
       "</div>"
      ],
      "text/plain": [
       "       Actual  Predicted\n",
       "0   10.230000  11.997433\n",
       "1    7.170000  11.502066\n",
       "2    7.800000  11.643600\n",
       "3    3.430000  11.997433\n",
       "4    4.080000  11.148233\n",
       "5   10.420000  11.785133\n",
       "6   10.670000  11.997433\n",
       "7    7.280000  11.997433\n",
       "8   22.450001  12.138966\n",
       "9    5.020000  12.280499\n",
       "10   1.380000  11.926666\n",
       "11   4.380000  11.714366\n",
       "12   3.650000  11.148233\n",
       "13   1.800000  11.219000\n",
       "14   5.400000  11.926666\n",
       "15  14.950000  11.360533\n",
       "16   8.880000  11.431300\n",
       "17   3.670000  11.855899\n",
       "18   5.980000  11.714366\n",
       "19   6.500000  11.289767"
      ]
     },
     "execution_count": 51,
     "metadata": {},
     "output_type": "execute_result"
    }
   ],
   "source": [
    "# Create a dataframe comparing the actual and predicted values of y.\n",
    "\n",
    "compare = pd.DataFrame({'Actual': y_test.flatten(), 'Predicted': y_predicted.flatten()})\n",
    "compare.head(20)"
   ]
  },
  {
   "cell_type": "markdown",
   "id": "8cefc90d",
   "metadata": {},
   "source": [
    "The model performed very poorly even with extreme values removed. We can see there are very big differences between the actual and predicted values. Furthermore, the R2 score is very close to 0, indicating a very poor fit."
   ]
  }
 ],
 "metadata": {
  "kernelspec": {
   "display_name": "Python 3 (ipykernel)",
   "language": "python",
   "name": "python3"
  },
  "language_info": {
   "codemirror_mode": {
    "name": "ipython",
    "version": 3
   },
   "file_extension": ".py",
   "mimetype": "text/x-python",
   "name": "python",
   "nbconvert_exporter": "python",
   "pygments_lexer": "ipython3",
   "version": "3.9.13"
  }
 },
 "nbformat": 4,
 "nbformat_minor": 5
}
