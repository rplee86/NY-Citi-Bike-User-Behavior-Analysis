{
 "cells": [
  {
   "cell_type": "markdown",
   "id": "82d63b58",
   "metadata": {},
   "source": [
    "# Data Preparation"
   ]
  },
  {
   "cell_type": "markdown",
   "id": "96bf3887",
   "metadata": {},
   "source": [
    "### Contents:\n",
    "1. Import libraries\n",
    "2. Import data\n",
    "3. Data exploration and cleaning\n",
    "4. Deriving new columns\n",
    "5. Dropping and renaming columns\n",
    "6. Checking and changing data types\n",
    "7. Export data"
   ]
  },
  {
   "cell_type": "markdown",
   "id": "7671891e",
   "metadata": {},
   "source": [
    "## 1. Import libraries"
   ]
  },
  {
   "cell_type": "code",
   "execution_count": 1,
   "id": "009ba61f",
   "metadata": {},
   "outputs": [],
   "source": [
    "# Import the necessary libraries\n",
    "import pandas as pd\n",
    "import numpy as np\n",
    "import os\n",
    "import datetime as dt"
   ]
  },
  {
   "cell_type": "markdown",
   "id": "82ffc755",
   "metadata": {},
   "source": [
    "## 2. Import data"
   ]
  },
  {
   "cell_type": "code",
   "execution_count": 2,
   "id": "8aba6dba",
   "metadata": {},
   "outputs": [],
   "source": [
    "# Create a string of the path for the main project folder\n",
    "path = r'C:\\Users\\Ryan\\Documents\\08-31-2023 Citi Bike Analysis'"
   ]
  },
  {
   "cell_type": "code",
   "execution_count": 3,
   "id": "b0a21614",
   "metadata": {},
   "outputs": [],
   "source": [
    "# Import the “201903-citibike-tripdata.csv” data set using the os library\n",
    "df_citibike = pd.read_csv(os.path.join(path, '02 Data', 'Original Data', '201903-citibike-tripdata.csv'))"
   ]
  },
  {
   "cell_type": "markdown",
   "id": "929a4123",
   "metadata": {},
   "source": [
    "## 3. Data exploration and cleaning"
   ]
  },
  {
   "cell_type": "code",
   "execution_count": 4,
   "id": "95019b9f",
   "metadata": {},
   "outputs": [
    {
     "data": {
      "text/html": [
       "<div>\n",
       "<style scoped>\n",
       "    .dataframe tbody tr th:only-of-type {\n",
       "        vertical-align: middle;\n",
       "    }\n",
       "\n",
       "    .dataframe tbody tr th {\n",
       "        vertical-align: top;\n",
       "    }\n",
       "\n",
       "    .dataframe thead th {\n",
       "        text-align: right;\n",
       "    }\n",
       "</style>\n",
       "<table border=\"1\" class=\"dataframe\">\n",
       "  <thead>\n",
       "    <tr style=\"text-align: right;\">\n",
       "      <th></th>\n",
       "      <th>tripduration</th>\n",
       "      <th>starttime</th>\n",
       "      <th>stoptime</th>\n",
       "      <th>start station id</th>\n",
       "      <th>start station name</th>\n",
       "      <th>start station latitude</th>\n",
       "      <th>start station longitude</th>\n",
       "      <th>end station id</th>\n",
       "      <th>end station name</th>\n",
       "      <th>end station latitude</th>\n",
       "      <th>end station longitude</th>\n",
       "      <th>bikeid</th>\n",
       "      <th>usertype</th>\n",
       "      <th>birth year</th>\n",
       "      <th>gender</th>\n",
       "    </tr>\n",
       "  </thead>\n",
       "  <tbody>\n",
       "    <tr>\n",
       "      <th>0</th>\n",
       "      <td>1463</td>\n",
       "      <td>2019-03-01 00:00:16.0970</td>\n",
       "      <td>2019-03-01 00:24:39.3880</td>\n",
       "      <td>319.0</td>\n",
       "      <td>Fulton St &amp; Broadway</td>\n",
       "      <td>40.711066</td>\n",
       "      <td>-74.009447</td>\n",
       "      <td>347.0</td>\n",
       "      <td>Greenwich St &amp; W Houston St</td>\n",
       "      <td>40.728846</td>\n",
       "      <td>-74.008591</td>\n",
       "      <td>35618</td>\n",
       "      <td>Subscriber</td>\n",
       "      <td>1989</td>\n",
       "      <td>1</td>\n",
       "    </tr>\n",
       "    <tr>\n",
       "      <th>1</th>\n",
       "      <td>285</td>\n",
       "      <td>2019-03-01 00:00:32.3850</td>\n",
       "      <td>2019-03-01 00:05:18.1830</td>\n",
       "      <td>439.0</td>\n",
       "      <td>E 4 St &amp; 2 Ave</td>\n",
       "      <td>40.726281</td>\n",
       "      <td>-73.989780</td>\n",
       "      <td>150.0</td>\n",
       "      <td>E 2 St &amp; Avenue C</td>\n",
       "      <td>40.720874</td>\n",
       "      <td>-73.980858</td>\n",
       "      <td>31113</td>\n",
       "      <td>Subscriber</td>\n",
       "      <td>1980</td>\n",
       "      <td>1</td>\n",
       "    </tr>\n",
       "    <tr>\n",
       "      <th>2</th>\n",
       "      <td>686</td>\n",
       "      <td>2019-03-01 00:00:47.7970</td>\n",
       "      <td>2019-03-01 00:12:14.3090</td>\n",
       "      <td>526.0</td>\n",
       "      <td>E 33 St &amp; 5 Ave</td>\n",
       "      <td>40.747659</td>\n",
       "      <td>-73.984907</td>\n",
       "      <td>3474.0</td>\n",
       "      <td>6 Ave &amp; Spring St</td>\n",
       "      <td>40.725256</td>\n",
       "      <td>-74.004121</td>\n",
       "      <td>19617</td>\n",
       "      <td>Subscriber</td>\n",
       "      <td>1987</td>\n",
       "      <td>1</td>\n",
       "    </tr>\n",
       "    <tr>\n",
       "      <th>3</th>\n",
       "      <td>442</td>\n",
       "      <td>2019-03-01 00:01:01.2090</td>\n",
       "      <td>2019-03-01 00:08:23.7510</td>\n",
       "      <td>3474.0</td>\n",
       "      <td>6 Ave &amp; Spring St</td>\n",
       "      <td>40.725256</td>\n",
       "      <td>-74.004121</td>\n",
       "      <td>355.0</td>\n",
       "      <td>Bayard St &amp; Baxter St</td>\n",
       "      <td>40.716021</td>\n",
       "      <td>-73.999744</td>\n",
       "      <td>27086</td>\n",
       "      <td>Subscriber</td>\n",
       "      <td>1987</td>\n",
       "      <td>2</td>\n",
       "    </tr>\n",
       "    <tr>\n",
       "      <th>4</th>\n",
       "      <td>2913</td>\n",
       "      <td>2019-03-01 00:01:09.2810</td>\n",
       "      <td>2019-03-01 00:49:42.3810</td>\n",
       "      <td>379.0</td>\n",
       "      <td>W 31 St &amp; 7 Ave</td>\n",
       "      <td>40.749156</td>\n",
       "      <td>-73.991600</td>\n",
       "      <td>212.0</td>\n",
       "      <td>W 16 St &amp; The High Line</td>\n",
       "      <td>40.743349</td>\n",
       "      <td>-74.006818</td>\n",
       "      <td>34791</td>\n",
       "      <td>Subscriber</td>\n",
       "      <td>1991</td>\n",
       "      <td>1</td>\n",
       "    </tr>\n",
       "  </tbody>\n",
       "</table>\n",
       "</div>"
      ],
      "text/plain": [
       "   tripduration                 starttime                  stoptime  \\\n",
       "0          1463  2019-03-01 00:00:16.0970  2019-03-01 00:24:39.3880   \n",
       "1           285  2019-03-01 00:00:32.3850  2019-03-01 00:05:18.1830   \n",
       "2           686  2019-03-01 00:00:47.7970  2019-03-01 00:12:14.3090   \n",
       "3           442  2019-03-01 00:01:01.2090  2019-03-01 00:08:23.7510   \n",
       "4          2913  2019-03-01 00:01:09.2810  2019-03-01 00:49:42.3810   \n",
       "\n",
       "   start station id    start station name  start station latitude  \\\n",
       "0             319.0  Fulton St & Broadway               40.711066   \n",
       "1             439.0        E 4 St & 2 Ave               40.726281   \n",
       "2             526.0       E 33 St & 5 Ave               40.747659   \n",
       "3            3474.0     6 Ave & Spring St               40.725256   \n",
       "4             379.0       W 31 St & 7 Ave               40.749156   \n",
       "\n",
       "   start station longitude  end station id             end station name  \\\n",
       "0               -74.009447           347.0  Greenwich St & W Houston St   \n",
       "1               -73.989780           150.0            E 2 St & Avenue C   \n",
       "2               -73.984907          3474.0            6 Ave & Spring St   \n",
       "3               -74.004121           355.0        Bayard St & Baxter St   \n",
       "4               -73.991600           212.0      W 16 St & The High Line   \n",
       "\n",
       "   end station latitude  end station longitude  bikeid    usertype  \\\n",
       "0             40.728846             -74.008591   35618  Subscriber   \n",
       "1             40.720874             -73.980858   31113  Subscriber   \n",
       "2             40.725256             -74.004121   19617  Subscriber   \n",
       "3             40.716021             -73.999744   27086  Subscriber   \n",
       "4             40.743349             -74.006818   34791  Subscriber   \n",
       "\n",
       "   birth year  gender  \n",
       "0        1989       1  \n",
       "1        1980       1  \n",
       "2        1987       1  \n",
       "3        1987       2  \n",
       "4        1991       1  "
      ]
     },
     "execution_count": 4,
     "metadata": {},
     "output_type": "execute_result"
    }
   ],
   "source": [
    "# Check the output\n",
    "df_citibike.head()"
   ]
  },
  {
   "cell_type": "code",
   "execution_count": 5,
   "id": "fffdae39",
   "metadata": {},
   "outputs": [
    {
     "data": {
      "text/plain": [
       "(1327960, 15)"
      ]
     },
     "execution_count": 5,
     "metadata": {},
     "output_type": "execute_result"
    }
   ],
   "source": [
    "# Check the dimensions\n",
    "df_citibike.shape"
   ]
  },
  {
   "cell_type": "markdown",
   "id": "ad771fdf",
   "metadata": {},
   "source": [
    "#### Missing values check:"
   ]
  },
  {
   "cell_type": "code",
   "execution_count": 6,
   "id": "87eda75e",
   "metadata": {},
   "outputs": [
    {
     "data": {
      "text/plain": [
       "tripduration                0\n",
       "starttime                   0\n",
       "stoptime                    0\n",
       "start station id           10\n",
       "start station name         10\n",
       "start station latitude      0\n",
       "start station longitude     0\n",
       "end station id             10\n",
       "end station name           10\n",
       "end station latitude        0\n",
       "end station longitude       0\n",
       "bikeid                      0\n",
       "usertype                    0\n",
       "birth year                  0\n",
       "gender                      0\n",
       "dtype: int64"
      ]
     },
     "execution_count": 6,
     "metadata": {},
     "output_type": "execute_result"
    }
   ],
   "source": [
    "# Check for null/missing values\n",
    "df_citibike.isna().sum()"
   ]
  },
  {
   "cell_type": "code",
   "execution_count": 7,
   "id": "f929ec9d",
   "metadata": {},
   "outputs": [],
   "source": [
    "# Drop null/missing values\n",
    "df_citibike = df_citibike.dropna()"
   ]
  },
  {
   "cell_type": "code",
   "execution_count": 8,
   "id": "51a89961",
   "metadata": {},
   "outputs": [
    {
     "data": {
      "text/plain": [
       "(1327950, 15)"
      ]
     },
     "execution_count": 8,
     "metadata": {},
     "output_type": "execute_result"
    }
   ],
   "source": [
    "# Check the dimensions\n",
    "df_citibike.shape"
   ]
  },
  {
   "cell_type": "markdown",
   "id": "b8866ac2",
   "metadata": {},
   "source": [
    "#### Duplicates check:"
   ]
  },
  {
   "cell_type": "code",
   "execution_count": 9,
   "id": "09e56645",
   "metadata": {},
   "outputs": [
    {
     "data": {
      "text/plain": [
       "(0, 15)"
      ]
     },
     "execution_count": 9,
     "metadata": {},
     "output_type": "execute_result"
    }
   ],
   "source": [
    "# Check for duplicates\n",
    "df_citibike[df_citibike.duplicated()].shape"
   ]
  },
  {
   "cell_type": "markdown",
   "id": "cbc09582",
   "metadata": {},
   "source": [
    "No duplicates (:"
   ]
  },
  {
   "cell_type": "markdown",
   "id": "7c9c4d0a",
   "metadata": {},
   "source": [
    "#### Accuracy check:"
   ]
  },
  {
   "cell_type": "code",
   "execution_count": 10,
   "id": "93f3b747",
   "metadata": {},
   "outputs": [
    {
     "data": {
      "text/html": [
       "<div>\n",
       "<style scoped>\n",
       "    .dataframe tbody tr th:only-of-type {\n",
       "        vertical-align: middle;\n",
       "    }\n",
       "\n",
       "    .dataframe tbody tr th {\n",
       "        vertical-align: top;\n",
       "    }\n",
       "\n",
       "    .dataframe thead th {\n",
       "        text-align: right;\n",
       "    }\n",
       "</style>\n",
       "<table border=\"1\" class=\"dataframe\">\n",
       "  <thead>\n",
       "    <tr style=\"text-align: right;\">\n",
       "      <th></th>\n",
       "      <th>tripduration</th>\n",
       "      <th>birth year</th>\n",
       "      <th>gender</th>\n",
       "    </tr>\n",
       "  </thead>\n",
       "  <tbody>\n",
       "    <tr>\n",
       "      <th>count</th>\n",
       "      <td>1.327950e+06</td>\n",
       "      <td>1.327950e+06</td>\n",
       "      <td>1.327950e+06</td>\n",
       "    </tr>\n",
       "    <tr>\n",
       "      <th>mean</th>\n",
       "      <td>8.826540e+02</td>\n",
       "      <td>1.979394e+03</td>\n",
       "      <td>1.167328e+00</td>\n",
       "    </tr>\n",
       "    <tr>\n",
       "      <th>std</th>\n",
       "      <td>8.571514e+03</td>\n",
       "      <td>1.220167e+01</td>\n",
       "      <td>4.971219e-01</td>\n",
       "    </tr>\n",
       "    <tr>\n",
       "      <th>min</th>\n",
       "      <td>6.100000e+01</td>\n",
       "      <td>1.857000e+03</td>\n",
       "      <td>0.000000e+00</td>\n",
       "    </tr>\n",
       "    <tr>\n",
       "      <th>25%</th>\n",
       "      <td>3.210000e+02</td>\n",
       "      <td>1.969000e+03</td>\n",
       "      <td>1.000000e+00</td>\n",
       "    </tr>\n",
       "    <tr>\n",
       "      <th>50%</th>\n",
       "      <td>5.390000e+02</td>\n",
       "      <td>1.982000e+03</td>\n",
       "      <td>1.000000e+00</td>\n",
       "    </tr>\n",
       "    <tr>\n",
       "      <th>75%</th>\n",
       "      <td>9.440000e+02</td>\n",
       "      <td>1.989000e+03</td>\n",
       "      <td>1.000000e+00</td>\n",
       "    </tr>\n",
       "    <tr>\n",
       "      <th>max</th>\n",
       "      <td>2.969781e+06</td>\n",
       "      <td>2.003000e+03</td>\n",
       "      <td>2.000000e+00</td>\n",
       "    </tr>\n",
       "  </tbody>\n",
       "</table>\n",
       "</div>"
      ],
      "text/plain": [
       "       tripduration    birth year        gender\n",
       "count  1.327950e+06  1.327950e+06  1.327950e+06\n",
       "mean   8.826540e+02  1.979394e+03  1.167328e+00\n",
       "std    8.571514e+03  1.220167e+01  4.971219e-01\n",
       "min    6.100000e+01  1.857000e+03  0.000000e+00\n",
       "25%    3.210000e+02  1.969000e+03  1.000000e+00\n",
       "50%    5.390000e+02  1.982000e+03  1.000000e+00\n",
       "75%    9.440000e+02  1.989000e+03  1.000000e+00\n",
       "max    2.969781e+06  2.003000e+03  2.000000e+00"
      ]
     },
     "execution_count": 10,
     "metadata": {},
     "output_type": "execute_result"
    }
   ],
   "source": [
    "# Check relevant columns for accuracy\n",
    "df_citibike[['tripduration','birth year', 'gender']].describe()"
   ]
  },
  {
   "cell_type": "markdown",
   "id": "54fb2260",
   "metadata": {},
   "source": [
    "#### Gender check:"
   ]
  },
  {
   "cell_type": "code",
   "execution_count": 11,
   "id": "36623320",
   "metadata": {},
   "outputs": [
    {
     "data": {
      "text/plain": [
       "1    962593\n",
       "2    293780\n",
       "0     71577\n",
       "Name: gender, dtype: int64"
      ]
     },
     "execution_count": 11,
     "metadata": {},
     "output_type": "execute_result"
    }
   ],
   "source": [
    "# Obtain frequencies for 'gender' column\n",
    "df_citibike['gender'].value_counts(dropna = False)"
   ]
  },
  {
   "cell_type": "markdown",
   "id": "c92ab2bc",
   "metadata": {},
   "source": [
    "There are 71,577 unknown genders. Since there is no way to correct these values, they will be removed."
   ]
  },
  {
   "cell_type": "code",
   "execution_count": 12,
   "id": "1fe33048",
   "metadata": {},
   "outputs": [],
   "source": [
    "# Remove rows with unknown gender\n",
    "df_citibike = df_citibike.loc[df_citibike['gender'].isin([1,2])]"
   ]
  },
  {
   "cell_type": "code",
   "execution_count": 13,
   "id": "3c181b16",
   "metadata": {},
   "outputs": [
    {
     "data": {
      "text/plain": [
       "(1256373, 15)"
      ]
     },
     "execution_count": 13,
     "metadata": {},
     "output_type": "execute_result"
    }
   ],
   "source": [
    "# Check the dimensions\n",
    "df_citibike.shape"
   ]
  },
  {
   "cell_type": "code",
   "execution_count": 14,
   "id": "7b1b41cd",
   "metadata": {},
   "outputs": [],
   "source": [
    "df_citibike['gender'] = df_citibike['gender'].replace({1: 'Male', 2: 'Female'})"
   ]
  },
  {
   "cell_type": "code",
   "execution_count": 15,
   "id": "0f4ddce6",
   "metadata": {},
   "outputs": [
    {
     "data": {
      "text/html": [
       "<div>\n",
       "<style scoped>\n",
       "    .dataframe tbody tr th:only-of-type {\n",
       "        vertical-align: middle;\n",
       "    }\n",
       "\n",
       "    .dataframe tbody tr th {\n",
       "        vertical-align: top;\n",
       "    }\n",
       "\n",
       "    .dataframe thead th {\n",
       "        text-align: right;\n",
       "    }\n",
       "</style>\n",
       "<table border=\"1\" class=\"dataframe\">\n",
       "  <thead>\n",
       "    <tr style=\"text-align: right;\">\n",
       "      <th></th>\n",
       "      <th>tripduration</th>\n",
       "      <th>starttime</th>\n",
       "      <th>stoptime</th>\n",
       "      <th>start station id</th>\n",
       "      <th>start station name</th>\n",
       "      <th>start station latitude</th>\n",
       "      <th>start station longitude</th>\n",
       "      <th>end station id</th>\n",
       "      <th>end station name</th>\n",
       "      <th>end station latitude</th>\n",
       "      <th>end station longitude</th>\n",
       "      <th>bikeid</th>\n",
       "      <th>usertype</th>\n",
       "      <th>birth year</th>\n",
       "      <th>gender</th>\n",
       "    </tr>\n",
       "  </thead>\n",
       "  <tbody>\n",
       "    <tr>\n",
       "      <th>0</th>\n",
       "      <td>1463</td>\n",
       "      <td>2019-03-01 00:00:16.0970</td>\n",
       "      <td>2019-03-01 00:24:39.3880</td>\n",
       "      <td>319.0</td>\n",
       "      <td>Fulton St &amp; Broadway</td>\n",
       "      <td>40.711066</td>\n",
       "      <td>-74.009447</td>\n",
       "      <td>347.0</td>\n",
       "      <td>Greenwich St &amp; W Houston St</td>\n",
       "      <td>40.728846</td>\n",
       "      <td>-74.008591</td>\n",
       "      <td>35618</td>\n",
       "      <td>Subscriber</td>\n",
       "      <td>1989</td>\n",
       "      <td>Male</td>\n",
       "    </tr>\n",
       "    <tr>\n",
       "      <th>1</th>\n",
       "      <td>285</td>\n",
       "      <td>2019-03-01 00:00:32.3850</td>\n",
       "      <td>2019-03-01 00:05:18.1830</td>\n",
       "      <td>439.0</td>\n",
       "      <td>E 4 St &amp; 2 Ave</td>\n",
       "      <td>40.726281</td>\n",
       "      <td>-73.989780</td>\n",
       "      <td>150.0</td>\n",
       "      <td>E 2 St &amp; Avenue C</td>\n",
       "      <td>40.720874</td>\n",
       "      <td>-73.980858</td>\n",
       "      <td>31113</td>\n",
       "      <td>Subscriber</td>\n",
       "      <td>1980</td>\n",
       "      <td>Male</td>\n",
       "    </tr>\n",
       "    <tr>\n",
       "      <th>2</th>\n",
       "      <td>686</td>\n",
       "      <td>2019-03-01 00:00:47.7970</td>\n",
       "      <td>2019-03-01 00:12:14.3090</td>\n",
       "      <td>526.0</td>\n",
       "      <td>E 33 St &amp; 5 Ave</td>\n",
       "      <td>40.747659</td>\n",
       "      <td>-73.984907</td>\n",
       "      <td>3474.0</td>\n",
       "      <td>6 Ave &amp; Spring St</td>\n",
       "      <td>40.725256</td>\n",
       "      <td>-74.004121</td>\n",
       "      <td>19617</td>\n",
       "      <td>Subscriber</td>\n",
       "      <td>1987</td>\n",
       "      <td>Male</td>\n",
       "    </tr>\n",
       "    <tr>\n",
       "      <th>3</th>\n",
       "      <td>442</td>\n",
       "      <td>2019-03-01 00:01:01.2090</td>\n",
       "      <td>2019-03-01 00:08:23.7510</td>\n",
       "      <td>3474.0</td>\n",
       "      <td>6 Ave &amp; Spring St</td>\n",
       "      <td>40.725256</td>\n",
       "      <td>-74.004121</td>\n",
       "      <td>355.0</td>\n",
       "      <td>Bayard St &amp; Baxter St</td>\n",
       "      <td>40.716021</td>\n",
       "      <td>-73.999744</td>\n",
       "      <td>27086</td>\n",
       "      <td>Subscriber</td>\n",
       "      <td>1987</td>\n",
       "      <td>Female</td>\n",
       "    </tr>\n",
       "    <tr>\n",
       "      <th>4</th>\n",
       "      <td>2913</td>\n",
       "      <td>2019-03-01 00:01:09.2810</td>\n",
       "      <td>2019-03-01 00:49:42.3810</td>\n",
       "      <td>379.0</td>\n",
       "      <td>W 31 St &amp; 7 Ave</td>\n",
       "      <td>40.749156</td>\n",
       "      <td>-73.991600</td>\n",
       "      <td>212.0</td>\n",
       "      <td>W 16 St &amp; The High Line</td>\n",
       "      <td>40.743349</td>\n",
       "      <td>-74.006818</td>\n",
       "      <td>34791</td>\n",
       "      <td>Subscriber</td>\n",
       "      <td>1991</td>\n",
       "      <td>Male</td>\n",
       "    </tr>\n",
       "  </tbody>\n",
       "</table>\n",
       "</div>"
      ],
      "text/plain": [
       "   tripduration                 starttime                  stoptime  \\\n",
       "0          1463  2019-03-01 00:00:16.0970  2019-03-01 00:24:39.3880   \n",
       "1           285  2019-03-01 00:00:32.3850  2019-03-01 00:05:18.1830   \n",
       "2           686  2019-03-01 00:00:47.7970  2019-03-01 00:12:14.3090   \n",
       "3           442  2019-03-01 00:01:01.2090  2019-03-01 00:08:23.7510   \n",
       "4          2913  2019-03-01 00:01:09.2810  2019-03-01 00:49:42.3810   \n",
       "\n",
       "   start station id    start station name  start station latitude  \\\n",
       "0             319.0  Fulton St & Broadway               40.711066   \n",
       "1             439.0        E 4 St & 2 Ave               40.726281   \n",
       "2             526.0       E 33 St & 5 Ave               40.747659   \n",
       "3            3474.0     6 Ave & Spring St               40.725256   \n",
       "4             379.0       W 31 St & 7 Ave               40.749156   \n",
       "\n",
       "   start station longitude  end station id             end station name  \\\n",
       "0               -74.009447           347.0  Greenwich St & W Houston St   \n",
       "1               -73.989780           150.0            E 2 St & Avenue C   \n",
       "2               -73.984907          3474.0            6 Ave & Spring St   \n",
       "3               -74.004121           355.0        Bayard St & Baxter St   \n",
       "4               -73.991600           212.0      W 16 St & The High Line   \n",
       "\n",
       "   end station latitude  end station longitude  bikeid    usertype  \\\n",
       "0             40.728846             -74.008591   35618  Subscriber   \n",
       "1             40.720874             -73.980858   31113  Subscriber   \n",
       "2             40.725256             -74.004121   19617  Subscriber   \n",
       "3             40.716021             -73.999744   27086  Subscriber   \n",
       "4             40.743349             -74.006818   34791  Subscriber   \n",
       "\n",
       "   birth year  gender  \n",
       "0        1989    Male  \n",
       "1        1980    Male  \n",
       "2        1987    Male  \n",
       "3        1987  Female  \n",
       "4        1991    Male  "
      ]
     },
     "execution_count": 15,
     "metadata": {},
     "output_type": "execute_result"
    }
   ],
   "source": [
    "# Check the out\n",
    "df_citibike.head()"
   ]
  },
  {
   "cell_type": "markdown",
   "id": "c43b0e55",
   "metadata": {},
   "source": [
    "#### Birth year check:"
   ]
  },
  {
   "cell_type": "markdown",
   "id": "6fa2210b",
   "metadata": {},
   "source": [
    "The minimum value for the birth year is 1857, implying the oldest Citi Bike user is 162 years old! For analysis, we will remove any Citi Bike user older than 85 years."
   ]
  },
  {
   "cell_type": "code",
   "execution_count": 16,
   "id": "8b81ecfc",
   "metadata": {},
   "outputs": [
    {
     "data": {
      "text/plain": [
       "(881, 15)"
      ]
     },
     "execution_count": 16,
     "metadata": {},
     "output_type": "execute_result"
    }
   ],
   "source": [
    "# Check how many records have birth year < 1934\n",
    "df_citibike.loc[df_citibike['birth year'] < 1934].shape"
   ]
  },
  {
   "cell_type": "code",
   "execution_count": 17,
   "id": "30e57975",
   "metadata": {},
   "outputs": [],
   "source": [
    "# Remove rows with birth year < 1934\n",
    "df_citibike = df_citibike.loc[df_citibike['birth year'] >= 1934]"
   ]
  },
  {
   "cell_type": "code",
   "execution_count": 18,
   "id": "c4538006",
   "metadata": {},
   "outputs": [
    {
     "data": {
      "text/plain": [
       "(1255492, 15)"
      ]
     },
     "execution_count": 18,
     "metadata": {},
     "output_type": "execute_result"
    }
   ],
   "source": [
    "# Check the dimensions\n",
    "df_citibike.shape"
   ]
  },
  {
   "cell_type": "markdown",
   "id": "8c348e8b",
   "metadata": {},
   "source": [
    "#### Trip duration check:"
   ]
  },
  {
   "cell_type": "markdown",
   "id": "76cfe052",
   "metadata": {},
   "source": [
    "The maximum value for the trip duration is 2,969,781 seconds. This is an usually large trip duration, but it is plausible that Citi Bike users may borrow a bike for long periods of time, especially if they are subscribers. We will further explore the trip duration to see how many records have long trip duration."
   ]
  },
  {
   "cell_type": "code",
   "execution_count": 19,
   "id": "9021d6e4",
   "metadata": {},
   "outputs": [
    {
     "data": {
      "text/plain": [
       "1878.5"
      ]
     },
     "execution_count": 19,
     "metadata": {},
     "output_type": "execute_result"
    }
   ],
   "source": [
    "# Determine the upper outlier boundary for trip duration\n",
    "944 + 1.5*(944-321)"
   ]
  },
  {
   "cell_type": "code",
   "execution_count": 20,
   "id": "a6f1d28c",
   "metadata": {},
   "outputs": [
    {
     "data": {
      "text/plain": [
       "(66070, 15)"
      ]
     },
     "execution_count": 20,
     "metadata": {},
     "output_type": "execute_result"
    }
   ],
   "source": [
    "# Check how many rows have a trip duration > 1878.5\n",
    "df_citibike.loc[df_citibike['tripduration'] > 1878.5].shape"
   ]
  },
  {
   "cell_type": "markdown",
   "id": "70116e61",
   "metadata": {},
   "source": [
    "There are 66,070 outlier values in the tripduration column. Removing these outliers would result in removing more than 5% of the data set, which could cause major issues in our analysis. Therefore, we will leave these extreme values."
   ]
  },
  {
   "cell_type": "code",
   "execution_count": 21,
   "id": "e5b287c3",
   "metadata": {},
   "outputs": [
    {
     "data": {
      "text/html": [
       "<div>\n",
       "<style scoped>\n",
       "    .dataframe tbody tr th:only-of-type {\n",
       "        vertical-align: middle;\n",
       "    }\n",
       "\n",
       "    .dataframe tbody tr th {\n",
       "        vertical-align: top;\n",
       "    }\n",
       "\n",
       "    .dataframe thead th {\n",
       "        text-align: right;\n",
       "    }\n",
       "</style>\n",
       "<table border=\"1\" class=\"dataframe\">\n",
       "  <thead>\n",
       "    <tr style=\"text-align: right;\">\n",
       "      <th></th>\n",
       "      <th>tripduration</th>\n",
       "      <th>birth year</th>\n",
       "    </tr>\n",
       "  </thead>\n",
       "  <tbody>\n",
       "    <tr>\n",
       "      <th>count</th>\n",
       "      <td>1.255492e+06</td>\n",
       "      <td>1.255492e+06</td>\n",
       "    </tr>\n",
       "    <tr>\n",
       "      <th>mean</th>\n",
       "      <td>8.158086e+02</td>\n",
       "      <td>1.979952e+03</td>\n",
       "    </tr>\n",
       "    <tr>\n",
       "      <th>std</th>\n",
       "      <td>7.509738e+03</td>\n",
       "      <td>1.208571e+01</td>\n",
       "    </tr>\n",
       "    <tr>\n",
       "      <th>min</th>\n",
       "      <td>6.100000e+01</td>\n",
       "      <td>1.934000e+03</td>\n",
       "    </tr>\n",
       "    <tr>\n",
       "      <th>25%</th>\n",
       "      <td>3.150000e+02</td>\n",
       "      <td>1.971000e+03</td>\n",
       "    </tr>\n",
       "    <tr>\n",
       "      <th>50%</th>\n",
       "      <td>5.240000e+02</td>\n",
       "      <td>1.983000e+03</td>\n",
       "    </tr>\n",
       "    <tr>\n",
       "      <th>75%</th>\n",
       "      <td>9.020000e+02</td>\n",
       "      <td>1.990000e+03</td>\n",
       "    </tr>\n",
       "    <tr>\n",
       "      <th>max</th>\n",
       "      <td>2.969781e+06</td>\n",
       "      <td>2.003000e+03</td>\n",
       "    </tr>\n",
       "  </tbody>\n",
       "</table>\n",
       "</div>"
      ],
      "text/plain": [
       "       tripduration    birth year\n",
       "count  1.255492e+06  1.255492e+06\n",
       "mean   8.158086e+02  1.979952e+03\n",
       "std    7.509738e+03  1.208571e+01\n",
       "min    6.100000e+01  1.934000e+03\n",
       "25%    3.150000e+02  1.971000e+03\n",
       "50%    5.240000e+02  1.983000e+03\n",
       "75%    9.020000e+02  1.990000e+03\n",
       "max    2.969781e+06  2.003000e+03"
      ]
     },
     "execution_count": 21,
     "metadata": {},
     "output_type": "execute_result"
    }
   ],
   "source": [
    "# Re-check relevant columns for accuracy\n",
    "df_citibike[['tripduration','birth year']].describe()"
   ]
  },
  {
   "cell_type": "markdown",
   "id": "340b402b",
   "metadata": {},
   "source": [
    "## 4. Deriving new columns"
   ]
  },
  {
   "cell_type": "code",
   "execution_count": 22,
   "id": "1341c473",
   "metadata": {},
   "outputs": [],
   "source": [
    "# Convert trip duration to minutes\n",
    "df_citibike['trip_duration'] = round(df_citibike['tripduration']/60, 2)"
   ]
  },
  {
   "cell_type": "code",
   "execution_count": 23,
   "id": "95e43f6b",
   "metadata": {},
   "outputs": [],
   "source": [
    "# Create age column\n",
    "df_citibike['age'] = 2019 - df_citibike['birth year']"
   ]
  },
  {
   "cell_type": "code",
   "execution_count": 24,
   "id": "3e1ee76f",
   "metadata": {},
   "outputs": [],
   "source": [
    "# Create age_group column\n",
    "df_citibike.loc[df_citibike['age'] <= 25, 'age_group'] = '16-25'\n",
    "df_citibike.loc[(df_citibike['age'] >= 26) & (df_citibike['age'] <= 35), 'age_group'] = '26-35'\n",
    "df_citibike.loc[(df_citibike['age'] >= 36) & (df_citibike['age'] <= 45), 'age_group'] = '36-45'\n",
    "df_citibike.loc[(df_citibike['age'] >= 46) & (df_citibike['age'] <= 55), 'age_group'] = '46-55'\n",
    "df_citibike.loc[(df_citibike['age'] >= 56) & (df_citibike['age'] <= 65), 'age_group'] = '56-65'\n",
    "df_citibike.loc[(df_citibike['age'] >= 66) & (df_citibike['age'] <= 75), 'age_group'] = '66-75'\n",
    "df_citibike.loc[df_citibike['age'] >= 76, 'age_group'] = '76-85'"
   ]
  },
  {
   "cell_type": "code",
   "execution_count": 25,
   "id": "595f40aa",
   "metadata": {},
   "outputs": [],
   "source": [
    "# Convert 'starttime' and 'stoptime' columns to pandas datetime\n",
    "df_citibike['starttime'] = pd.to_datetime(df_citibike['starttime'], format=\"%Y-%m-%d %H:%M:%S\")\n",
    "df_citibike['stoptime'] = pd.to_datetime(df_citibike['stoptime'], format=\"%Y-%m-%d %H:%M:%S\")"
   ]
  },
  {
   "cell_type": "code",
   "execution_count": 26,
   "id": "25a789ea",
   "metadata": {},
   "outputs": [],
   "source": [
    "# Create start_hour column\n",
    "df_citibike['start_hour'] = df_citibike['starttime'].dt.hour"
   ]
  },
  {
   "cell_type": "code",
   "execution_count": 27,
   "id": "7d2fb3b2",
   "metadata": {},
   "outputs": [],
   "source": [
    "# Create a start_day column\n",
    "df_citibike['start_day'] = df_citibike['starttime'].dt.day"
   ]
  },
  {
   "cell_type": "code",
   "execution_count": 28,
   "id": "58bed9a4",
   "metadata": {},
   "outputs": [],
   "source": [
    "# Create day_of_week column\n",
    "df_citibike['start_day_name'] = df_citibike['starttime'].dt.day_name()"
   ]
  },
  {
   "cell_type": "markdown",
   "id": "ed7516df",
   "metadata": {},
   "source": [
    "## 5. Dropping and renaming columns"
   ]
  },
  {
   "cell_type": "code",
   "execution_count": 29,
   "id": "8e5631b6",
   "metadata": {},
   "outputs": [],
   "source": [
    "# Drop columns not relevant for analysis\n",
    "df_citibike = df_citibike.drop(columns = ['tripduration', 'start station id', 'end station id', 'bikeid', 'birth year', 'starttime', 'stoptime'])"
   ]
  },
  {
   "cell_type": "code",
   "execution_count": 30,
   "id": "7ca1160f",
   "metadata": {},
   "outputs": [
    {
     "data": {
      "text/plain": [
       "Index(['start station name', 'start station latitude',\n",
       "       'start station longitude', 'end station name', 'end station latitude',\n",
       "       'end station longitude', 'usertype', 'gender', 'trip_duration', 'age',\n",
       "       'age_group', 'start_hour', 'start_day', 'start_day_name'],\n",
       "      dtype='object')"
      ]
     },
     "execution_count": 30,
     "metadata": {},
     "output_type": "execute_result"
    }
   ],
   "source": [
    "# Check the columns\n",
    "df_citibike.columns"
   ]
  },
  {
   "cell_type": "code",
   "execution_count": 31,
   "id": "c98d0afd",
   "metadata": {},
   "outputs": [],
   "source": [
    "# Rename columns to follow proper naming conventions\n",
    "df_citibike.rename(columns = {'start station name': 'start_station',\n",
    "                              'start station latitude': 'start_latitude',\n",
    "                              'start station longitude': 'start_longitude',\n",
    "                              'end station name': 'end_station',\n",
    "                              'end station latitude': 'end_latitude',\n",
    "                              'end station longitude': 'end_longitude',\n",
    "                              'usertype': 'user_type'},\n",
    "                   inplace = True)"
   ]
  },
  {
   "cell_type": "code",
   "execution_count": 32,
   "id": "1725010d",
   "metadata": {},
   "outputs": [],
   "source": [
    "# Rearrange columns\n",
    "df_citibike = df_citibike[[\n",
    "    'user_type',\n",
    "    'gender',\n",
    "    'age',\n",
    "    'age_group',\n",
    "    'trip_duration',\n",
    "    'start_day_name',\n",
    "    'start_day',\n",
    "    'start_hour',\n",
    "    'start_station',\n",
    "    'start_latitude',\n",
    "    'start_longitude',\n",
    "    'end_station',\n",
    "    'end_latitude',\n",
    "    'end_longitude'\n",
    "]]"
   ]
  },
  {
   "cell_type": "code",
   "execution_count": 33,
   "id": "350b969d",
   "metadata": {},
   "outputs": [
    {
     "data": {
      "text/html": [
       "<div>\n",
       "<style scoped>\n",
       "    .dataframe tbody tr th:only-of-type {\n",
       "        vertical-align: middle;\n",
       "    }\n",
       "\n",
       "    .dataframe tbody tr th {\n",
       "        vertical-align: top;\n",
       "    }\n",
       "\n",
       "    .dataframe thead th {\n",
       "        text-align: right;\n",
       "    }\n",
       "</style>\n",
       "<table border=\"1\" class=\"dataframe\">\n",
       "  <thead>\n",
       "    <tr style=\"text-align: right;\">\n",
       "      <th></th>\n",
       "      <th>user_type</th>\n",
       "      <th>gender</th>\n",
       "      <th>age</th>\n",
       "      <th>age_group</th>\n",
       "      <th>trip_duration</th>\n",
       "      <th>start_day_name</th>\n",
       "      <th>start_day</th>\n",
       "      <th>start_hour</th>\n",
       "      <th>start_station</th>\n",
       "      <th>start_latitude</th>\n",
       "      <th>start_longitude</th>\n",
       "      <th>end_station</th>\n",
       "      <th>end_latitude</th>\n",
       "      <th>end_longitude</th>\n",
       "    </tr>\n",
       "  </thead>\n",
       "  <tbody>\n",
       "    <tr>\n",
       "      <th>0</th>\n",
       "      <td>Subscriber</td>\n",
       "      <td>Male</td>\n",
       "      <td>30</td>\n",
       "      <td>26-35</td>\n",
       "      <td>24.38</td>\n",
       "      <td>Friday</td>\n",
       "      <td>1</td>\n",
       "      <td>0</td>\n",
       "      <td>Fulton St &amp; Broadway</td>\n",
       "      <td>40.711066</td>\n",
       "      <td>-74.009447</td>\n",
       "      <td>Greenwich St &amp; W Houston St</td>\n",
       "      <td>40.728846</td>\n",
       "      <td>-74.008591</td>\n",
       "    </tr>\n",
       "    <tr>\n",
       "      <th>1</th>\n",
       "      <td>Subscriber</td>\n",
       "      <td>Male</td>\n",
       "      <td>39</td>\n",
       "      <td>36-45</td>\n",
       "      <td>4.75</td>\n",
       "      <td>Friday</td>\n",
       "      <td>1</td>\n",
       "      <td>0</td>\n",
       "      <td>E 4 St &amp; 2 Ave</td>\n",
       "      <td>40.726281</td>\n",
       "      <td>-73.989780</td>\n",
       "      <td>E 2 St &amp; Avenue C</td>\n",
       "      <td>40.720874</td>\n",
       "      <td>-73.980858</td>\n",
       "    </tr>\n",
       "    <tr>\n",
       "      <th>2</th>\n",
       "      <td>Subscriber</td>\n",
       "      <td>Male</td>\n",
       "      <td>32</td>\n",
       "      <td>26-35</td>\n",
       "      <td>11.43</td>\n",
       "      <td>Friday</td>\n",
       "      <td>1</td>\n",
       "      <td>0</td>\n",
       "      <td>E 33 St &amp; 5 Ave</td>\n",
       "      <td>40.747659</td>\n",
       "      <td>-73.984907</td>\n",
       "      <td>6 Ave &amp; Spring St</td>\n",
       "      <td>40.725256</td>\n",
       "      <td>-74.004121</td>\n",
       "    </tr>\n",
       "    <tr>\n",
       "      <th>3</th>\n",
       "      <td>Subscriber</td>\n",
       "      <td>Female</td>\n",
       "      <td>32</td>\n",
       "      <td>26-35</td>\n",
       "      <td>7.37</td>\n",
       "      <td>Friday</td>\n",
       "      <td>1</td>\n",
       "      <td>0</td>\n",
       "      <td>6 Ave &amp; Spring St</td>\n",
       "      <td>40.725256</td>\n",
       "      <td>-74.004121</td>\n",
       "      <td>Bayard St &amp; Baxter St</td>\n",
       "      <td>40.716021</td>\n",
       "      <td>-73.999744</td>\n",
       "    </tr>\n",
       "    <tr>\n",
       "      <th>4</th>\n",
       "      <td>Subscriber</td>\n",
       "      <td>Male</td>\n",
       "      <td>28</td>\n",
       "      <td>26-35</td>\n",
       "      <td>48.55</td>\n",
       "      <td>Friday</td>\n",
       "      <td>1</td>\n",
       "      <td>0</td>\n",
       "      <td>W 31 St &amp; 7 Ave</td>\n",
       "      <td>40.749156</td>\n",
       "      <td>-73.991600</td>\n",
       "      <td>W 16 St &amp; The High Line</td>\n",
       "      <td>40.743349</td>\n",
       "      <td>-74.006818</td>\n",
       "    </tr>\n",
       "  </tbody>\n",
       "</table>\n",
       "</div>"
      ],
      "text/plain": [
       "    user_type  gender  age age_group  trip_duration start_day_name  start_day  \\\n",
       "0  Subscriber    Male   30     26-35          24.38         Friday          1   \n",
       "1  Subscriber    Male   39     36-45           4.75         Friday          1   \n",
       "2  Subscriber    Male   32     26-35          11.43         Friday          1   \n",
       "3  Subscriber  Female   32     26-35           7.37         Friday          1   \n",
       "4  Subscriber    Male   28     26-35          48.55         Friday          1   \n",
       "\n",
       "   start_hour         start_station  start_latitude  start_longitude  \\\n",
       "0           0  Fulton St & Broadway       40.711066       -74.009447   \n",
       "1           0        E 4 St & 2 Ave       40.726281       -73.989780   \n",
       "2           0       E 33 St & 5 Ave       40.747659       -73.984907   \n",
       "3           0     6 Ave & Spring St       40.725256       -74.004121   \n",
       "4           0       W 31 St & 7 Ave       40.749156       -73.991600   \n",
       "\n",
       "                   end_station  end_latitude  end_longitude  \n",
       "0  Greenwich St & W Houston St     40.728846     -74.008591  \n",
       "1            E 2 St & Avenue C     40.720874     -73.980858  \n",
       "2            6 Ave & Spring St     40.725256     -74.004121  \n",
       "3        Bayard St & Baxter St     40.716021     -73.999744  \n",
       "4      W 16 St & The High Line     40.743349     -74.006818  "
      ]
     },
     "execution_count": 33,
     "metadata": {},
     "output_type": "execute_result"
    }
   ],
   "source": [
    "# Check the output\n",
    "df_citibike.head()"
   ]
  },
  {
   "cell_type": "code",
   "execution_count": 34,
   "id": "d2285d24",
   "metadata": {},
   "outputs": [
    {
     "data": {
      "text/plain": [
       "(1255492, 14)"
      ]
     },
     "execution_count": 34,
     "metadata": {},
     "output_type": "execute_result"
    }
   ],
   "source": [
    "# Check the dimensions\n",
    "df_citibike.shape"
   ]
  },
  {
   "cell_type": "markdown",
   "id": "9a44c654",
   "metadata": {},
   "source": [
    "## 6. Checking and changing data types"
   ]
  },
  {
   "cell_type": "code",
   "execution_count": 35,
   "id": "36acefae",
   "metadata": {},
   "outputs": [],
   "source": [
    "# Check for mixed-type data\n",
    "for col in df_citibike.columns.tolist():\n",
    "    weird = (df_citibike[[col]].applymap(type) != df_citibike[[col]].iloc[0].apply(type)).any(axis = 1)\n",
    "    if len (df_citibike[weird]) > 0:\n",
    "        print (col)"
   ]
  },
  {
   "cell_type": "markdown",
   "id": "d6a83ffd",
   "metadata": {},
   "source": [
    "No mixed-type data"
   ]
  },
  {
   "cell_type": "code",
   "execution_count": 36,
   "id": "77d10838",
   "metadata": {},
   "outputs": [
    {
     "data": {
      "text/plain": [
       "user_type           object\n",
       "gender              object\n",
       "age                  int64\n",
       "age_group           object\n",
       "trip_duration      float64\n",
       "start_day_name      object\n",
       "start_day            int64\n",
       "start_hour           int64\n",
       "start_station       object\n",
       "start_latitude     float64\n",
       "start_longitude    float64\n",
       "end_station         object\n",
       "end_latitude       float64\n",
       "end_longitude      float64\n",
       "dtype: object"
      ]
     },
     "execution_count": 36,
     "metadata": {},
     "output_type": "execute_result"
    }
   ],
   "source": [
    "# Check the data types\n",
    "df_citibike.dtypes"
   ]
  },
  {
   "cell_type": "code",
   "execution_count": 37,
   "id": "39d96aca",
   "metadata": {},
   "outputs": [],
   "source": [
    "# Change data types to more optimal ones\n",
    "df_citibike['age'] = df_citibike['age'].astype('uint8')\n",
    "df_citibike['trip_duration'] = df_citibike['trip_duration'].astype('float32')\n",
    "df_citibike['start_day'] = df_citibike['start_day'].astype('uint8')\n",
    "df_citibike['start_hour'] = df_citibike['start_hour'].astype('uint8')\n",
    "df_citibike['start_latitude'] = df_citibike['start_latitude'].astype('float32')\n",
    "df_citibike['start_longitude'] = df_citibike['start_longitude'].astype('float32')\n",
    "df_citibike['end_latitude'] = df_citibike['end_latitude'].astype('float32')\n",
    "df_citibike['end_longitude'] = df_citibike['end_longitude'].astype('float32')"
   ]
  },
  {
   "cell_type": "code",
   "execution_count": 38,
   "id": "442a7d4b",
   "metadata": {},
   "outputs": [
    {
     "data": {
      "text/html": [
       "<div>\n",
       "<style scoped>\n",
       "    .dataframe tbody tr th:only-of-type {\n",
       "        vertical-align: middle;\n",
       "    }\n",
       "\n",
       "    .dataframe tbody tr th {\n",
       "        vertical-align: top;\n",
       "    }\n",
       "\n",
       "    .dataframe thead th {\n",
       "        text-align: right;\n",
       "    }\n",
       "</style>\n",
       "<table border=\"1\" class=\"dataframe\">\n",
       "  <thead>\n",
       "    <tr style=\"text-align: right;\">\n",
       "      <th></th>\n",
       "      <th>age</th>\n",
       "      <th>trip_duration</th>\n",
       "      <th>start_day</th>\n",
       "      <th>start_hour</th>\n",
       "    </tr>\n",
       "  </thead>\n",
       "  <tbody>\n",
       "    <tr>\n",
       "      <th>count</th>\n",
       "      <td>1.255492e+06</td>\n",
       "      <td>1.255492e+06</td>\n",
       "      <td>1.255492e+06</td>\n",
       "      <td>1.255492e+06</td>\n",
       "    </tr>\n",
       "    <tr>\n",
       "      <th>mean</th>\n",
       "      <td>3.904832e+01</td>\n",
       "      <td>1.359681e+01</td>\n",
       "      <td>1.750158e+01</td>\n",
       "      <td>1.388825e+01</td>\n",
       "    </tr>\n",
       "    <tr>\n",
       "      <th>std</th>\n",
       "      <td>1.208571e+01</td>\n",
       "      <td>1.249650e+02</td>\n",
       "      <td>8.560315e+00</td>\n",
       "      <td>4.754976e+00</td>\n",
       "    </tr>\n",
       "    <tr>\n",
       "      <th>min</th>\n",
       "      <td>1.600000e+01</td>\n",
       "      <td>1.020000e+00</td>\n",
       "      <td>1.000000e+00</td>\n",
       "      <td>0.000000e+00</td>\n",
       "    </tr>\n",
       "    <tr>\n",
       "      <th>25%</th>\n",
       "      <td>2.900000e+01</td>\n",
       "      <td>5.250000e+00</td>\n",
       "      <td>1.100000e+01</td>\n",
       "      <td>1.000000e+01</td>\n",
       "    </tr>\n",
       "    <tr>\n",
       "      <th>50%</th>\n",
       "      <td>3.600000e+01</td>\n",
       "      <td>8.730000e+00</td>\n",
       "      <td>1.800000e+01</td>\n",
       "      <td>1.500000e+01</td>\n",
       "    </tr>\n",
       "    <tr>\n",
       "      <th>75%</th>\n",
       "      <td>4.800000e+01</td>\n",
       "      <td>1.503000e+01</td>\n",
       "      <td>2.500000e+01</td>\n",
       "      <td>1.800000e+01</td>\n",
       "    </tr>\n",
       "    <tr>\n",
       "      <th>max</th>\n",
       "      <td>8.500000e+01</td>\n",
       "      <td>4.949635e+04</td>\n",
       "      <td>3.100000e+01</td>\n",
       "      <td>2.300000e+01</td>\n",
       "    </tr>\n",
       "  </tbody>\n",
       "</table>\n",
       "</div>"
      ],
      "text/plain": [
       "                age  trip_duration     start_day    start_hour\n",
       "count  1.255492e+06   1.255492e+06  1.255492e+06  1.255492e+06\n",
       "mean   3.904832e+01   1.359681e+01  1.750158e+01  1.388825e+01\n",
       "std    1.208571e+01   1.249650e+02  8.560315e+00  4.754976e+00\n",
       "min    1.600000e+01   1.020000e+00  1.000000e+00  0.000000e+00\n",
       "25%    2.900000e+01   5.250000e+00  1.100000e+01  1.000000e+01\n",
       "50%    3.600000e+01   8.730000e+00  1.800000e+01  1.500000e+01\n",
       "75%    4.800000e+01   1.503000e+01  2.500000e+01  1.800000e+01\n",
       "max    8.500000e+01   4.949635e+04  3.100000e+01  2.300000e+01"
      ]
     },
     "execution_count": 38,
     "metadata": {},
     "output_type": "execute_result"
    }
   ],
   "source": [
    "# Re-check relevant columns for accuracy\n",
    "df_citibike[['age', 'trip_duration', 'start_day', 'start_hour']].describe()"
   ]
  },
  {
   "cell_type": "markdown",
   "id": "7cfcf494",
   "metadata": {},
   "source": [
    "## 7. Export data"
   ]
  },
  {
   "cell_type": "code",
   "execution_count": 39,
   "id": "5561d13b",
   "metadata": {},
   "outputs": [],
   "source": [
    "# Export dataframe\n",
    "df_citibike.to_pickle(os.path.join(path, '02 Data','Prepared Data', '201903-citibike-tripdata-cleaned.pkl'))"
   ]
  }
 ],
 "metadata": {
  "kernelspec": {
   "display_name": "Python 3 (ipykernel)",
   "language": "python",
   "name": "python3"
  },
  "language_info": {
   "codemirror_mode": {
    "name": "ipython",
    "version": 3
   },
   "file_extension": ".py",
   "mimetype": "text/x-python",
   "name": "python",
   "nbconvert_exporter": "python",
   "pygments_lexer": "ipython3",
   "version": "3.9.13"
  }
 },
 "nbformat": 4,
 "nbformat_minor": 5
}
